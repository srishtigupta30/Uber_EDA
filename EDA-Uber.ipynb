{
   "cell_type": "markdown",
   "metadata": {},
   "source": [
    "# Project Goals\n",
    "- How long do people travel in Uber?\n",
    "- What Hour Do most of the people take uber?\n",
    "- What is the purpose of the trip?\n",
    "- Which day has the highest number of trips?\n",
    "- What are the number of trips each day?"
   ]
  },
  {
   "cell_type": "markdown",
   "metadata": {},
   "source": [
    "### Download the dataset"
   ]
  },
  {
   "cell_type": "markdown",
   "metadata": {},
   "source": [
    "### Import Libraries"
   ]
  },
  {
   "cell_type": "code",
   "execution_count": 2,
   "metadata": {},
   "outputs": [],
   "source": [
    "import pandas as pd\n",
    "import numpy as np\n",
    "\n",
    "import matplotlib.pyplot as plt\n",
    "import seaborn as sns\n",
    "\n",
    "import warnings\n",
    "warnings.filterwarnings('ignore')"
   ]
  },
  {
   "cell_type": "code",
   "execution_count": 63,
   "metadata": {},
   "outputs": [],
   "source": [
    "data = pd.read_csv('UberData.csv')"
   ]
  },
  {
   "cell_type": "code",
   "execution_count": 4,
   "metadata": {},
   "outputs": [
    {
     "data": {
      "text/plain": [
       "pandas.core.frame.DataFrame"
      ]
     },
     "execution_count": 4,
     "metadata": {},
     "output_type": "execute_result"
    }
   ],
   "source": [
    "type(data)"
   ]
  },
  {
   "cell_type": "code",
   "execution_count": 5,
   "metadata": {},
   "outputs": [
    {
     "data": {
      "text/plain": [
       "(1156, 7)"
      ]
     },
     "execution_count": 5,
     "metadata": {},
     "output_type": "execute_result"
    }
   ],
   "source": [
    "data.shape"
   ]
  },
  {
   "cell_type": "code",
   "execution_count": 6,
   "metadata": {},
   "outputs": [
    {
     "data": {
      "text/plain": [
       "Index(['START_DATE*', 'END_DATE*', 'CATEGORY*', 'START*', 'STOP*', 'MILES*',\n",
       "       'PURPOSE*'],\n",
       "      dtype='object')"
      ]
     },
     "execution_count": 6,
     "metadata": {},
     "output_type": "execute_result"
    }
   ],
   "source": [
    "data.columns"
   ]
  },
  {
   "cell_type": "code",
   "execution_count": 18,
   "metadata": {},
   "outputs": [
    {
     "data": {
      "text/html": [
       "<div>\n",
       "<style scoped>\n",
       "    .dataframe tbody tr th:only-of-type {\n",
       "        vertical-align: middle;\n",
       "    }\n",
       "\n",
       "    .dataframe tbody tr th {\n",
       "        vertical-align: top;\n",
       "    }\n",
       "\n",
       "    .dataframe thead th {\n",
       "        text-align: right;\n",
       "    }\n",
       "</style>\n",
       "<table border=\"1\" class=\"dataframe\">\n",
       "  <thead>\n",
       "    <tr style=\"text-align: right;\">\n",
       "      <th></th>\n",
       "      <th>START_DATE*</th>\n",
       "      <th>END_DATE*</th>\n",
       "      <th>CATEGORY*</th>\n",
       "      <th>START*</th>\n",
       "      <th>STOP*</th>\n",
       "      <th>MILES*</th>\n",
       "      <th>PURPOSE*</th>\n",
       "    </tr>\n",
       "  </thead>\n",
       "  <tbody>\n",
       "    <tr>\n",
       "      <th>0</th>\n",
       "      <td>1/1/2016 21:11</td>\n",
       "      <td>1/1/2016 21:17</td>\n",
       "      <td>Business</td>\n",
       "      <td>Fort Pierce</td>\n",
       "      <td>Fort Pierce</td>\n",
       "      <td>5.1</td>\n",
       "      <td>Meal/Entertain</td>\n",
       "    </tr>\n",
       "    <tr>\n",
       "      <th>1</th>\n",
       "      <td>1/2/2016 1:25</td>\n",
       "      <td>1/2/2016 1:37</td>\n",
       "      <td>Business</td>\n",
       "      <td>Fort Pierce</td>\n",
       "      <td>Fort Pierce</td>\n",
       "      <td>5.0</td>\n",
       "      <td>NaN</td>\n",
       "    </tr>\n",
       "    <tr>\n",
       "      <th>2</th>\n",
       "      <td>1/2/2016 20:25</td>\n",
       "      <td>1/2/2016 20:38</td>\n",
       "      <td>Business</td>\n",
       "      <td>Fort Pierce</td>\n",
       "      <td>Fort Pierce</td>\n",
       "      <td>4.8</td>\n",
       "      <td>Errand/Supplies</td>\n",
       "    </tr>\n",
       "    <tr>\n",
       "      <th>3</th>\n",
       "      <td>1/5/2016 17:31</td>\n",
       "      <td>1/5/2016 17:45</td>\n",
       "      <td>Business</td>\n",
       "      <td>Fort Pierce</td>\n",
       "      <td>Fort Pierce</td>\n",
       "      <td>4.7</td>\n",
       "      <td>Meeting</td>\n",
       "    </tr>\n",
       "    <tr>\n",
       "      <th>4</th>\n",
       "      <td>1/6/2016 14:42</td>\n",
       "      <td>1/6/2016 15:49</td>\n",
       "      <td>Business</td>\n",
       "      <td>Fort Pierce</td>\n",
       "      <td>West Palm Beach</td>\n",
       "      <td>63.7</td>\n",
       "      <td>Customer Visit</td>\n",
       "    </tr>\n",
       "  </tbody>\n",
       "</table>\n",
       "</div>"
      ],
      "text/plain": [
       "      START_DATE*       END_DATE* CATEGORY*       START*            STOP*  \\\n",
       "0  1/1/2016 21:11  1/1/2016 21:17  Business  Fort Pierce      Fort Pierce   \n",
       "1   1/2/2016 1:25   1/2/2016 1:37  Business  Fort Pierce      Fort Pierce   \n",
       "2  1/2/2016 20:25  1/2/2016 20:38  Business  Fort Pierce      Fort Pierce   \n",
       "3  1/5/2016 17:31  1/5/2016 17:45  Business  Fort Pierce      Fort Pierce   \n",
       "4  1/6/2016 14:42  1/6/2016 15:49  Business  Fort Pierce  West Palm Beach   \n",
       "\n",
       "   MILES*         PURPOSE*  \n",
       "0     5.1   Meal/Entertain  \n",
       "1     5.0              NaN  \n",
       "2     4.8  Errand/Supplies  \n",
       "3     4.7          Meeting  \n",
       "4    63.7   Customer Visit  "
      ]
     },
     "execution_count": 18,
     "metadata": {},
     "output_type": "execute_result"
    }
   ],
   "source": [
    "data.head()"
   ]
  },
  {
   "cell_type": "code",
   "execution_count": 64,
   "metadata": {},
   "outputs": [],
   "source": [
    "# renaming the columns - removing the *\n",
    "columns = ['START_DATE', 'END_DATE', 'CATEGORY', 'START', 'STOP', 'MILES','PURPOSE']"
   ]
  },
  {
   "cell_type": "code",
   "execution_count": 65,
   "metadata": {},
   "outputs": [],
   "source": [
    "# updating the dataframe columns with the new columns.\n",
    "data.columns =columns"
   ]
  },
  {
   "cell_type": "code",
   "execution_count": 21,
   "metadata": {},
   "outputs": [
    {
     "data": {
      "text/html": [
       "<div>\n",
       "<style scoped>\n",
       "    .dataframe tbody tr th:only-of-type {\n",
       "        vertical-align: middle;\n",
       "    }\n",
       "\n",
       "    .dataframe tbody tr th {\n",
       "        vertical-align: top;\n",
       "    }\n",
       "\n",
       "    .dataframe thead th {\n",
       "        text-align: right;\n",
       "    }\n",
       "</style>\n",
       "<table border=\"1\" class=\"dataframe\">\n",
       "  <thead>\n",
       "    <tr style=\"text-align: right;\">\n",
       "      <th></th>\n",
       "      <th>START_DATE</th>\n",
       "      <th>END_DATE</th>\n",
       "      <th>CATEGORY</th>\n",
       "      <th>START</th>\n",
       "      <th>STOP</th>\n",
       "      <th>MILES</th>\n",
       "      <th>PURPOSE</th>\n",
       "    </tr>\n",
       "  </thead>\n",
       "  <tbody>\n",
       "    <tr>\n",
       "      <th>1151</th>\n",
       "      <td>12/31/2016 13:24</td>\n",
       "      <td>12/31/2016 13:42</td>\n",
       "      <td>Business</td>\n",
       "      <td>Kar?chi</td>\n",
       "      <td>Unknown Location</td>\n",
       "      <td>3.9</td>\n",
       "      <td>Temporary Site</td>\n",
       "    </tr>\n",
       "    <tr>\n",
       "      <th>1152</th>\n",
       "      <td>12/31/2016 15:03</td>\n",
       "      <td>12/31/2016 15:38</td>\n",
       "      <td>Business</td>\n",
       "      <td>Unknown Location</td>\n",
       "      <td>Unknown Location</td>\n",
       "      <td>16.2</td>\n",
       "      <td>Meeting</td>\n",
       "    </tr>\n",
       "    <tr>\n",
       "      <th>1153</th>\n",
       "      <td>12/31/2016 21:32</td>\n",
       "      <td>12/31/2016 21:50</td>\n",
       "      <td>Business</td>\n",
       "      <td>Katunayake</td>\n",
       "      <td>Gampaha</td>\n",
       "      <td>6.4</td>\n",
       "      <td>Temporary Site</td>\n",
       "    </tr>\n",
       "    <tr>\n",
       "      <th>1154</th>\n",
       "      <td>12/31/2016 22:08</td>\n",
       "      <td>12/31/2016 23:51</td>\n",
       "      <td>Business</td>\n",
       "      <td>Gampaha</td>\n",
       "      <td>Ilukwatta</td>\n",
       "      <td>48.2</td>\n",
       "      <td>Temporary Site</td>\n",
       "    </tr>\n",
       "    <tr>\n",
       "      <th>1155</th>\n",
       "      <td>Totals</td>\n",
       "      <td>NaN</td>\n",
       "      <td>NaN</td>\n",
       "      <td>NaN</td>\n",
       "      <td>NaN</td>\n",
       "      <td>12204.7</td>\n",
       "      <td>NaN</td>\n",
       "    </tr>\n",
       "  </tbody>\n",
       "</table>\n",
       "</div>"
      ],
      "text/plain": [
       "            START_DATE          END_DATE  CATEGORY             START  \\\n",
       "1151  12/31/2016 13:24  12/31/2016 13:42  Business           Kar?chi   \n",
       "1152  12/31/2016 15:03  12/31/2016 15:38  Business  Unknown Location   \n",
       "1153  12/31/2016 21:32  12/31/2016 21:50  Business        Katunayake   \n",
       "1154  12/31/2016 22:08  12/31/2016 23:51  Business           Gampaha   \n",
       "1155            Totals               NaN       NaN               NaN   \n",
       "\n",
       "                  STOP    MILES         PURPOSE  \n",
       "1151  Unknown Location      3.9  Temporary Site  \n",
       "1152  Unknown Location     16.2         Meeting  \n",
       "1153           Gampaha      6.4  Temporary Site  \n",
       "1154         Ilukwatta     48.2  Temporary Site  \n",
       "1155               NaN  12204.7             NaN  "
      ]
     },
     "execution_count": 21,
     "metadata": {},
     "output_type": "execute_result"
    }
   ],
   "source": [
    "data.tail()\n",
    "#last row is unnecessary "
   ]
  },
  {
   "cell_type": "code",
   "execution_count": 66,
   "metadata": {},
   "outputs": [],
   "source": [
    "# removing the last uunnecessary row\n",
    "data = data.drop(index = 1155)"
   ]
  },
  {
   "cell_type": "code",
   "execution_count": 23,
   "metadata": {},
   "outputs": [
    {
     "data": {
      "text/plain": [
       "(1155, 7)"
      ]
     },
     "execution_count": 23,
     "metadata": {},
     "output_type": "execute_result"
    }
   ],
   "source": [
    "data.shape"
   ]
  },
  {
   "cell_type": "code",
   "execution_count": 24,
   "metadata": {},
   "outputs": [
    {
     "data": {
      "text/html": [
       "<div>\n",
       "<style scoped>\n",
       "    .dataframe tbody tr th:only-of-type {\n",
       "        vertical-align: middle;\n",
       "    }\n",
       "\n",
       "    .dataframe tbody tr th {\n",
       "        vertical-align: top;\n",
       "    }\n",
       "\n",
       "    .dataframe thead th {\n",
       "        text-align: right;\n",
       "    }\n",
       "</style>\n",
       "<table border=\"1\" class=\"dataframe\">\n",
       "  <thead>\n",
       "    <tr style=\"text-align: right;\">\n",
       "      <th></th>\n",
       "      <th>START_DATE</th>\n",
       "      <th>END_DATE</th>\n",
       "      <th>CATEGORY</th>\n",
       "      <th>START</th>\n",
       "      <th>STOP</th>\n",
       "      <th>MILES</th>\n",
       "      <th>PURPOSE</th>\n",
       "    </tr>\n",
       "  </thead>\n",
       "  <tbody>\n",
       "    <tr>\n",
       "      <th>1150</th>\n",
       "      <td>12/31/2016 1:07</td>\n",
       "      <td>12/31/2016 1:14</td>\n",
       "      <td>Business</td>\n",
       "      <td>Kar?chi</td>\n",
       "      <td>Kar?chi</td>\n",
       "      <td>0.7</td>\n",
       "      <td>Meeting</td>\n",
       "    </tr>\n",
       "    <tr>\n",
       "      <th>1151</th>\n",
       "      <td>12/31/2016 13:24</td>\n",
       "      <td>12/31/2016 13:42</td>\n",
       "      <td>Business</td>\n",
       "      <td>Kar?chi</td>\n",
       "      <td>Unknown Location</td>\n",
       "      <td>3.9</td>\n",
       "      <td>Temporary Site</td>\n",
       "    </tr>\n",
       "    <tr>\n",
       "      <th>1152</th>\n",
       "      <td>12/31/2016 15:03</td>\n",
       "      <td>12/31/2016 15:38</td>\n",
       "      <td>Business</td>\n",
       "      <td>Unknown Location</td>\n",
       "      <td>Unknown Location</td>\n",
       "      <td>16.2</td>\n",
       "      <td>Meeting</td>\n",
       "    </tr>\n",
       "    <tr>\n",
       "      <th>1153</th>\n",
       "      <td>12/31/2016 21:32</td>\n",
       "      <td>12/31/2016 21:50</td>\n",
       "      <td>Business</td>\n",
       "      <td>Katunayake</td>\n",
       "      <td>Gampaha</td>\n",
       "      <td>6.4</td>\n",
       "      <td>Temporary Site</td>\n",
       "    </tr>\n",
       "    <tr>\n",
       "      <th>1154</th>\n",
       "      <td>12/31/2016 22:08</td>\n",
       "      <td>12/31/2016 23:51</td>\n",
       "      <td>Business</td>\n",
       "      <td>Gampaha</td>\n",
       "      <td>Ilukwatta</td>\n",
       "      <td>48.2</td>\n",
       "      <td>Temporary Site</td>\n",
       "    </tr>\n",
       "  </tbody>\n",
       "</table>\n",
       "</div>"
      ],
      "text/plain": [
       "            START_DATE          END_DATE  CATEGORY             START  \\\n",
       "1150   12/31/2016 1:07   12/31/2016 1:14  Business           Kar?chi   \n",
       "1151  12/31/2016 13:24  12/31/2016 13:42  Business           Kar?chi   \n",
       "1152  12/31/2016 15:03  12/31/2016 15:38  Business  Unknown Location   \n",
       "1153  12/31/2016 21:32  12/31/2016 21:50  Business        Katunayake   \n",
       "1154  12/31/2016 22:08  12/31/2016 23:51  Business           Gampaha   \n",
       "\n",
       "                  STOP  MILES         PURPOSE  \n",
       "1150           Kar?chi    0.7         Meeting  \n",
       "1151  Unknown Location    3.9  Temporary Site  \n",
       "1152  Unknown Location   16.2         Meeting  \n",
       "1153           Gampaha    6.4  Temporary Site  \n",
       "1154         Ilukwatta   48.2  Temporary Site  "
      ]
     },
     "execution_count": 24,
     "metadata": {},
     "output_type": "execute_result"
    }
   ],
   "source": [
    "data.tail()"
   ]
  },
  {
   "cell_type": "code",
   "execution_count": 25,
   "metadata": {},
   "outputs": [
    {
     "data": {
      "text/plain": [
       "0        Meal/Entertain\n",
       "1                   NaN\n",
       "2       Errand/Supplies\n",
       "3               Meeting\n",
       "4        Customer Visit\n",
       "             ...       \n",
       "1150            Meeting\n",
       "1151     Temporary Site\n",
       "1152            Meeting\n",
       "1153     Temporary Site\n",
       "1154     Temporary Site\n",
       "Name: PURPOSE, Length: 1155, dtype: object"
      ]
     },
     "execution_count": 25,
     "metadata": {},
     "output_type": "execute_result"
    }
   ],
   "source": [
    "data['PURPOSE']"
   ]
  },
  {
   "cell_type": "code",
   "execution_count": 27,
   "metadata": {},
   "outputs": [
    {
     "data": {
      "text/plain": [
       "array(['Meal/Entertain', nan, 'Errand/Supplies', 'Meeting',\n",
       "       'Customer Visit', 'Temporary Site', 'Between Offices',\n",
       "       'Charity ($)', 'Commute', 'Moving', 'Airport/Travel'], dtype=object)"
      ]
     },
     "execution_count": 27,
     "metadata": {},
     "output_type": "execute_result"
    }
   ],
   "source": [
    "data['PURPOSE'].unique()\n",
    "#Gives unique values"
   ]
  },
  {
   "cell_type": "code",
   "execution_count": 30,
   "metadata": {},
   "outputs": [
    {
     "data": {
      "text/plain": [
       "10"
      ]
     },
     "execution_count": 30,
     "metadata": {},
     "output_type": "execute_result"
    }
   ],
   "source": [
    "#Gives count of unique values\n",
    "data['PURPOSE'].nunique()"
   ]
  },
  {
   "cell_type": "code",
   "execution_count": 31,
   "metadata": {},
   "outputs": [
    {
     "data": {
      "text/plain": [
       "PURPOSE\n",
       "Meeting            187\n",
       "Meal/Entertain     160\n",
       "Errand/Supplies    128\n",
       "Customer Visit     101\n",
       "Temporary Site      50\n",
       "Between Offices     18\n",
       "Moving               4\n",
       "Airport/Travel       3\n",
       "Charity ($)          1\n",
       "Commute              1\n",
       "Name: count, dtype: int64"
      ]
     },
     "execution_count": 31,
     "metadata": {},
     "output_type": "execute_result"
    }
   ],
   "source": [
    "data['PURPOSE'].value_counts()"
   ]
  },
  {
   "cell_type": "code",
   "execution_count": 32,
   "metadata": {},
   "outputs": [
    {
     "data": {
      "text/plain": [
       "START_DATE    1/2/2016 1:25\n",
       "END_DATE      1/2/2016 1:37\n",
       "CATEGORY           Business\n",
       "START           Fort Pierce\n",
       "STOP            Fort Pierce\n",
       "MILES                   5.0\n",
       "PURPOSE                 NaN\n",
       "Name: 1, dtype: object"
      ]
     },
     "execution_count": 32,
     "metadata": {},
     "output_type": "execute_result"
    }
   ],
   "source": [
    "#Above we did extracting the columns but now how to extract rows\n",
    "data.loc[1]"
   ]
  },
  {
   "cell_type": "code",
   "execution_count": 33,
   "metadata": {},
   "outputs": [
    {
     "data": {
      "text/plain": [
       "array(['1/2/2016 1:25', '1/2/2016 1:37', 'Business', 'Fort Pierce',\n",
       "       'Fort Pierce', 5.0, nan], dtype=object)"
      ]
     },
     "execution_count": 33,
     "metadata": {},
     "output_type": "execute_result"
    }
   ],
   "source": [
    "#if we need only values\n",
    "data.loc[1].values"
   ]
  },
  {
   "cell_type": "markdown",
   "metadata": {},
   "source": [
    "### Missing Values"
   ]
  },
  {
   "cell_type": "code",
   "execution_count": 34,
   "metadata": {},
   "outputs": [
    {
     "data": {
      "text/plain": [
       "START_DATE      0\n",
       "END_DATE        0\n",
       "CATEGORY        0\n",
       "START           0\n",
       "STOP            0\n",
       "MILES           0\n",
       "PURPOSE       502\n",
       "dtype: int64"
      ]
     },
     "execution_count": 34,
     "metadata": {},
     "output_type": "execute_result"
    }
   ],
   "source": [
    "data.isna().sum()"
   ]
  },
  {
   "cell_type": "markdown",
   "metadata": {},
   "source": [
    "<b>Handling Missing</b>\n",
    "- Dropping rows\n",
    "- Drop column\n",
    "- Estimate (Approximate) -> Fill"
   ]
  },
  {
   "cell_type": "code",
   "execution_count": 67,
   "metadata": {},
   "outputs": [],
   "source": [
    "data = data.fillna(value='Other')"
   ]
  },
  {
   "cell_type": "code",
   "execution_count": 36,
   "metadata": {},
   "outputs": [
    {
     "data": {
      "text/plain": [
       "START_DATE    0\n",
       "END_DATE      0\n",
       "CATEGORY      0\n",
       "START         0\n",
       "STOP          0\n",
       "MILES         0\n",
       "PURPOSE       0\n",
       "dtype: int64"
      ]
     },
     "execution_count": 36,
     "metadata": {},
     "output_type": "execute_result"
    }
   ],
   "source": [
    "data.isna().sum()"
   ]
  },
  {
   "cell_type": "code",
   "execution_count": 37,
   "metadata": {},
   "outputs": [
    {
     "data": {
      "text/html": [
       "<div>\n",
       "<style scoped>\n",
       "    .dataframe tbody tr th:only-of-type {\n",
       "        vertical-align: middle;\n",
       "    }\n",
       "\n",
       "    .dataframe tbody tr th {\n",
       "        vertical-align: top;\n",
       "    }\n",
       "\n",
       "    .dataframe thead th {\n",
       "        text-align: right;\n",
       "    }\n",
       "</style>\n",
       "<table border=\"1\" class=\"dataframe\">\n",
       "  <thead>\n",
       "    <tr style=\"text-align: right;\">\n",
       "      <th></th>\n",
       "      <th>START_DATE</th>\n",
       "      <th>END_DATE</th>\n",
       "      <th>CATEGORY</th>\n",
       "      <th>START</th>\n",
       "      <th>STOP</th>\n",
       "      <th>MILES</th>\n",
       "      <th>PURPOSE</th>\n",
       "    </tr>\n",
       "  </thead>\n",
       "  <tbody>\n",
       "    <tr>\n",
       "      <th>0</th>\n",
       "      <td>1/1/2016 21:11</td>\n",
       "      <td>1/1/2016 21:17</td>\n",
       "      <td>Business</td>\n",
       "      <td>Fort Pierce</td>\n",
       "      <td>Fort Pierce</td>\n",
       "      <td>5.1</td>\n",
       "      <td>Meal/Entertain</td>\n",
       "    </tr>\n",
       "    <tr>\n",
       "      <th>1</th>\n",
       "      <td>1/2/2016 1:25</td>\n",
       "      <td>1/2/2016 1:37</td>\n",
       "      <td>Business</td>\n",
       "      <td>Fort Pierce</td>\n",
       "      <td>Fort Pierce</td>\n",
       "      <td>5.0</td>\n",
       "      <td>Other</td>\n",
       "    </tr>\n",
       "    <tr>\n",
       "      <th>2</th>\n",
       "      <td>1/2/2016 20:25</td>\n",
       "      <td>1/2/2016 20:38</td>\n",
       "      <td>Business</td>\n",
       "      <td>Fort Pierce</td>\n",
       "      <td>Fort Pierce</td>\n",
       "      <td>4.8</td>\n",
       "      <td>Errand/Supplies</td>\n",
       "    </tr>\n",
       "    <tr>\n",
       "      <th>3</th>\n",
       "      <td>1/5/2016 17:31</td>\n",
       "      <td>1/5/2016 17:45</td>\n",
       "      <td>Business</td>\n",
       "      <td>Fort Pierce</td>\n",
       "      <td>Fort Pierce</td>\n",
       "      <td>4.7</td>\n",
       "      <td>Meeting</td>\n",
       "    </tr>\n",
       "    <tr>\n",
       "      <th>4</th>\n",
       "      <td>1/6/2016 14:42</td>\n",
       "      <td>1/6/2016 15:49</td>\n",
       "      <td>Business</td>\n",
       "      <td>Fort Pierce</td>\n",
       "      <td>West Palm Beach</td>\n",
       "      <td>63.7</td>\n",
       "      <td>Customer Visit</td>\n",
       "    </tr>\n",
       "  </tbody>\n",
       "</table>\n",
       "</div>"
      ],
      "text/plain": [
       "       START_DATE        END_DATE  CATEGORY        START             STOP  \\\n",
       "0  1/1/2016 21:11  1/1/2016 21:17  Business  Fort Pierce      Fort Pierce   \n",
       "1   1/2/2016 1:25   1/2/2016 1:37  Business  Fort Pierce      Fort Pierce   \n",
       "2  1/2/2016 20:25  1/2/2016 20:38  Business  Fort Pierce      Fort Pierce   \n",
       "3  1/5/2016 17:31  1/5/2016 17:45  Business  Fort Pierce      Fort Pierce   \n",
       "4  1/6/2016 14:42  1/6/2016 15:49  Business  Fort Pierce  West Palm Beach   \n",
       "\n",
       "   MILES          PURPOSE  \n",
       "0    5.1   Meal/Entertain  \n",
       "1    5.0            Other  \n",
       "2    4.8  Errand/Supplies  \n",
       "3    4.7          Meeting  \n",
       "4   63.7   Customer Visit  "
      ]
     },
     "execution_count": 37,
     "metadata": {},
     "output_type": "execute_result"
    }
   ],
   "source": [
    "data.head()"
   ]
  },
  {
   "cell_type": "markdown",
   "metadata": {},
   "source": [
    "### DataTypes"
   ]
  },
  {
   "cell_type": "code",
   "execution_count": 38,
   "metadata": {},
   "outputs": [
    {
     "data": {
      "text/plain": [
       "START_DATE     object\n",
       "END_DATE       object\n",
       "CATEGORY       object\n",
       "START          object\n",
       "STOP           object\n",
       "MILES         float64\n",
       "PURPOSE        object\n",
       "dtype: object"
      ]
     },
     "execution_count": 38,
     "metadata": {},
     "output_type": "execute_result"
    }
   ],
   "source": [
    "data.dtypes"
   ]
  },
  {
   "cell_type": "code",
   "execution_count": 68,
   "metadata": {},
   "outputs": [],
   "source": [
    "#Converting string into datetime object\n",
    "#Changing the datatype\n",
    "\n",
    "data['START_DATE'] = pd.to_datetime(data['START_DATE'])\n",
    "data['END_DATE'] = pd.to_datetime(data['END_DATE'])"
   ]
  },
  {
   "cell_type": "code",
   "execution_count": 40,
   "metadata": {},
   "outputs": [
    {
     "data": {
      "text/plain": [
       "START_DATE    datetime64[ns]\n",
       "END_DATE      datetime64[ns]\n",
       "CATEGORY              object\n",
       "START                 object\n",
       "STOP                  object\n",
       "MILES                float64\n",
       "PURPOSE               object\n",
       "dtype: object"
      ]
     },
     "execution_count": 40,
     "metadata": {},
     "output_type": "execute_result"
    }
   ],
   "source": [
    "data.dtypes"
   ]
  },
  {
   "cell_type": "markdown",
   "metadata": {},
   "source": [
    "### Feature Engineering\n",
    "-> To create something new"
   ]
  },
  {
   "cell_type": "code",
   "execution_count": 69,
   "metadata": {},
   "outputs": [
    {
     "data": {
      "text/plain": [
       "Timestamp('2016-01-01 21:11:00')"
      ]
     },
     "execution_count": 69,
     "metadata": {},
     "output_type": "execute_result"
    }
   ],
   "source": [
    "#Timestamp -> associated with datetime\n",
    "ts = data['START_DATE'][0]\n",
    "ts"
   ]
  },
  {
   "cell_type": "code",
   "execution_count": 51,
   "metadata": {},
   "outputs": [
    {
     "data": {
      "text/plain": [
       "4"
      ]
     },
     "execution_count": 51,
     "metadata": {},
     "output_type": "execute_result"
    }
   ],
   "source": [
    "ts.dayofweek\n",
    "#this shows it would be a 4th -> Friday"
   ]
  },
  {
   "cell_type": "code",
   "execution_count": 52,
   "metadata": {},
   "outputs": [
    {
     "data": {
      "text/plain": [
       "'Friday'"
      ]
     },
     "execution_count": 52,
     "metadata": {},
     "output_type": "execute_result"
    }
   ],
   "source": [
    "ts.day_name()"
   ]
  },
  {
   "cell_type": "code",
   "execution_count": 53,
   "metadata": {},
   "outputs": [
    {
     "data": {
      "text/plain": [
       "1"
      ]
     },
     "execution_count": 53,
     "metadata": {},
     "output_type": "execute_result"
    }
   ],
   "source": [
    "ts.month"
   ]
  },
  {
   "cell_type": "code",
   "execution_count": 57,
   "metadata": {},
   "outputs": [
    {
     "data": {
      "text/plain": [
       "'January'"
      ]
     },
     "execution_count": 57,
     "metadata": {},
     "output_type": "execute_result"
    }
   ],
   "source": [
    "ts.month_name()"
   ]
  },
  {
   "cell_type": "code",
   "execution_count": 54,
   "metadata": {},
   "outputs": [
    {
     "data": {
      "text/plain": [
       "1"
      ]
     },
     "execution_count": 54,
     "metadata": {},
     "output_type": "execute_result"
    }
   ],
   "source": [
    "ts.day"
   ]
  },
  {
   "cell_type": "code",
   "execution_count": 55,
   "metadata": {},
   "outputs": [
    {
     "data": {
      "text/plain": [
       "2016"
      ]
     },
     "execution_count": 55,
     "metadata": {},
     "output_type": "execute_result"
    }
   ],
   "source": [
    "ts.year"
   ]
  },
  {
   "cell_type": "code",
   "execution_count": 46,
   "metadata": {},
   "outputs": [
    {
     "data": {
      "text/plain": [
       "0       2016\n",
       "1       2016\n",
       "2       2016\n",
       "3       2016\n",
       "4       2016\n",
       "        ... \n",
       "1150    2016\n",
       "1151    2016\n",
       "1152    2016\n",
       "1153    2016\n",
       "1154    2016\n",
       "Name: START_DATE, Length: 1155, dtype: int32"
      ]
     },
     "execution_count": 46,
     "metadata": {},
     "output_type": "execute_result"
    }
   ],
   "source": [
    "# dt is the way to show year is related to datetime. \n",
    "data['START_DATE'].dt.year"
   ]
  },
  {
   "cell_type": "code",
   "execution_count": 70,
   "metadata": {},
   "outputs": [],
   "source": [
    "# Creating New features/Columns\n",
    "\n",
    "data['HOUR'] = data['START_DATE'].dt.hour\n",
    "data['MINUTES'] = data['START_DATE'].dt.minute\n",
    "data['DAY'] = data['START_DATE'].dt.day\n",
    "data['MONTH'] = data['START_DATE'].dt.month\n",
    "data['DAYOFWEEK'] = data['START_DATE'].dt.dayofweek\n",
    "data['DAYNAME'] = data['START_DATE'].dt.day_name()"
   ]
  },
  {
   "cell_type": "code",
   "execution_count": 71,
   "metadata": {},
   "outputs": [
    {
     "data": {
      "text/html": [
       "<div>\n",
       "<style scoped>\n",
       "    .dataframe tbody tr th:only-of-type {\n",
       "        vertical-align: middle;\n",
       "    }\n",
       "\n",
       "    .dataframe tbody tr th {\n",
       "        vertical-align: top;\n",
       "    }\n",
       "\n",
       "    .dataframe thead th {\n",
       "        text-align: right;\n",
       "    }\n",
       "</style>\n",
       "<table border=\"1\" class=\"dataframe\">\n",
       "  <thead>\n",
       "    <tr style=\"text-align: right;\">\n",
       "      <th></th>\n",
       "      <th>START_DATE</th>\n",
       "      <th>END_DATE</th>\n",
       "      <th>CATEGORY</th>\n",
       "      <th>START</th>\n",
       "      <th>STOP</th>\n",
       "      <th>MILES</th>\n",
       "      <th>PURPOSE</th>\n",
       "      <th>HOUR</th>\n",
       "      <th>MINUTES</th>\n",
       "      <th>DAY</th>\n",
       "      <th>MONTH</th>\n",
       "      <th>DAYOFWEEK</th>\n",
       "      <th>DAYNAME</th>\n",
       "    </tr>\n",
       "  </thead>\n",
       "  <tbody>\n",
       "    <tr>\n",
       "      <th>0</th>\n",
       "      <td>2016-01-01 21:11:00</td>\n",
       "      <td>2016-01-01 21:17:00</td>\n",
       "      <td>Business</td>\n",
       "      <td>Fort Pierce</td>\n",
       "      <td>Fort Pierce</td>\n",
       "      <td>5.1</td>\n",
       "      <td>Meal/Entertain</td>\n",
       "      <td>21</td>\n",
       "      <td>11</td>\n",
       "      <td>1</td>\n",
       "      <td>1</td>\n",
       "      <td>4</td>\n",
       "      <td>Friday</td>\n",
       "    </tr>\n",
       "    <tr>\n",
       "      <th>1</th>\n",
       "      <td>2016-01-02 01:25:00</td>\n",
       "      <td>2016-01-02 01:37:00</td>\n",
       "      <td>Business</td>\n",
       "      <td>Fort Pierce</td>\n",
       "      <td>Fort Pierce</td>\n",
       "      <td>5.0</td>\n",
       "      <td>Other</td>\n",
       "      <td>1</td>\n",
       "      <td>25</td>\n",
       "      <td>2</td>\n",
       "      <td>1</td>\n",
       "      <td>5</td>\n",
       "      <td>Saturday</td>\n",
       "    </tr>\n",
       "    <tr>\n",
       "      <th>2</th>\n",
       "      <td>2016-01-02 20:25:00</td>\n",
       "      <td>2016-01-02 20:38:00</td>\n",
       "      <td>Business</td>\n",
       "      <td>Fort Pierce</td>\n",
       "      <td>Fort Pierce</td>\n",
       "      <td>4.8</td>\n",
       "      <td>Errand/Supplies</td>\n",
       "      <td>20</td>\n",
       "      <td>25</td>\n",
       "      <td>2</td>\n",
       "      <td>1</td>\n",
       "      <td>5</td>\n",
       "      <td>Saturday</td>\n",
       "    </tr>\n",
       "    <tr>\n",
       "      <th>3</th>\n",
       "      <td>2016-01-05 17:31:00</td>\n",
       "      <td>2016-01-05 17:45:00</td>\n",
       "      <td>Business</td>\n",
       "      <td>Fort Pierce</td>\n",
       "      <td>Fort Pierce</td>\n",
       "      <td>4.7</td>\n",
       "      <td>Meeting</td>\n",
       "      <td>17</td>\n",
       "      <td>31</td>\n",
       "      <td>5</td>\n",
       "      <td>1</td>\n",
       "      <td>1</td>\n",
       "      <td>Tuesday</td>\n",
       "    </tr>\n",
       "    <tr>\n",
       "      <th>4</th>\n",
       "      <td>2016-01-06 14:42:00</td>\n",
       "      <td>2016-01-06 15:49:00</td>\n",
       "      <td>Business</td>\n",
       "      <td>Fort Pierce</td>\n",
       "      <td>West Palm Beach</td>\n",
       "      <td>63.7</td>\n",
       "      <td>Customer Visit</td>\n",
       "      <td>14</td>\n",
       "      <td>42</td>\n",
       "      <td>6</td>\n",
       "      <td>1</td>\n",
       "      <td>2</td>\n",
       "      <td>Wednesday</td>\n",
       "    </tr>\n",
       "  </tbody>\n",
       "</table>\n",
       "</div>"
      ],
      "text/plain": [
       "           START_DATE            END_DATE  CATEGORY        START  \\\n",
       "0 2016-01-01 21:11:00 2016-01-01 21:17:00  Business  Fort Pierce   \n",
       "1 2016-01-02 01:25:00 2016-01-02 01:37:00  Business  Fort Pierce   \n",
       "2 2016-01-02 20:25:00 2016-01-02 20:38:00  Business  Fort Pierce   \n",
       "3 2016-01-05 17:31:00 2016-01-05 17:45:00  Business  Fort Pierce   \n",
       "4 2016-01-06 14:42:00 2016-01-06 15:49:00  Business  Fort Pierce   \n",
       "\n",
       "              STOP  MILES          PURPOSE  HOUR  MINUTES  DAY  MONTH  \\\n",
       "0      Fort Pierce    5.1   Meal/Entertain    21       11    1      1   \n",
       "1      Fort Pierce    5.0            Other     1       25    2      1   \n",
       "2      Fort Pierce    4.8  Errand/Supplies    20       25    2      1   \n",
       "3      Fort Pierce    4.7          Meeting    17       31    5      1   \n",
       "4  West Palm Beach   63.7   Customer Visit    14       42    6      1   \n",
       "\n",
       "   DAYOFWEEK    DAYNAME  \n",
       "0          4     Friday  \n",
       "1          5   Saturday  \n",
       "2          5   Saturday  \n",
       "3          1    Tuesday  \n",
       "4          2  Wednesday  "
      ]
     },
     "execution_count": 71,
     "metadata": {},
     "output_type": "execute_result"
    }
   ],
   "source": [
    "data.head()"
   ]
  },
  {
   "cell_type": "code",
   "execution_count": 72,
   "metadata": {},
   "outputs": [
    {
     "data": {
      "text/plain": [
       "(1155, 13)"
      ]
     },
     "execution_count": 72,
     "metadata": {},
     "output_type": "execute_result"
    }
   ],
   "source": [
    "data.shape"
   ]
  },
  {
   "cell_type": "markdown",
   "metadata": {},
   "source": [
    "# Exploratory Data Analysis"
   ]
  },
  {
   "cell_type": "code",
   "execution_count": 73,
   "metadata": {},
   "outputs": [
    {
     "data": {
      "text/plain": [
       "CATEGORY\n",
       "Business    1078\n",
       "Personal      77\n",
       "Name: count, dtype: int64"
      ]
     },
     "execution_count": 73,
     "metadata": {},
     "output_type": "execute_result"
    }
   ],
   "source": [
    "data['CATEGORY'].value_counts()"
   ]
  },
  {
   "cell_type": "code",
   "execution_count": 75,
   "metadata": {},
   "outputs": [
    {
     "data": {
      "text/plain": [
       "<Axes: xlabel='CATEGORY', ylabel='count'>"
      ]
     },
     "execution_count": 75,
     "metadata": {},
     "output_type": "execute_result"
    },
    {
     "data": {
      "image/png": "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",
      "text/plain": [
       "<Figure size 640x480 with 1 Axes>"
      ]
     },
     "metadata": {},
     "output_type": "display_data"
    }
   ],
   "source": [
    "sns.countplot(x =data['CATEGORY'])"
   ]
  },
  {
   "cell_type": "markdown",
   "metadata": {},
   "source": [
    "### How long (miles) do people travel in Uber?"
   ]
  },
  {
   "cell_type": "code",
   "execution_count": 76,
   "metadata": {},
   "outputs": [
    {
     "data": {
      "text/plain": [
       "0        5.1\n",
       "1        5.0\n",
       "2        4.8\n",
       "3        4.7\n",
       "4       63.7\n",
       "        ... \n",
       "1150     0.7\n",
       "1151     3.9\n",
       "1152    16.2\n",
       "1153     6.4\n",
       "1154    48.2\n",
       "Name: MILES, Length: 1155, dtype: float64"
      ]
     },
     "execution_count": 76,
     "metadata": {},
     "output_type": "execute_result"
    }
   ],
   "source": [
    "data['MILES']"
   ]
  },
  {
   "cell_type": "code",
   "execution_count": 85,
   "metadata": {},
   "outputs": [
    {
     "data": {
      "image/png": "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",
      "text/plain": [
       "<Figure size 1500x500 with 1 Axes>"
      ]
     },
     "metadata": {},
     "output_type": "display_data"
    }
   ],
   "source": [
    "plt.figure(figsize=(15,5))\n",
    "plt.hist(data['MILES'], bins=100 , color='red')\n",
    "plt.xlabel(\"Distance (in miles)\")\n",
    "plt.ylabel(\"Frequency of passanger\")\n",
    "plt.show()"
   ]
  },
  {
   "cell_type": "markdown",
   "metadata": {},
   "source": [
    "Observation:\n",
    "People often use Uber for short rides."
   ]
  },
  {
   "cell_type": "markdown",
   "metadata": {},
   "source": [
    "### What hour do most people take uber?"
   ]
  },
  {
   "cell_type": "code",
   "execution_count": 86,
   "metadata": {},
   "outputs": [
    {
     "data": {
      "text/plain": [
       "0       21\n",
       "1        1\n",
       "2       20\n",
       "3       17\n",
       "4       14\n",
       "        ..\n",
       "1150     1\n",
       "1151    13\n",
       "1152    15\n",
       "1153    21\n",
       "1154    22\n",
       "Name: HOUR, Length: 1155, dtype: int32"
      ]
     },
     "execution_count": 86,
     "metadata": {},
     "output_type": "execute_result"
    }
   ],
   "source": [
    "data['HOUR']"
   ]
  },
  {
   "cell_type": "code",
   "execution_count": 87,
   "metadata": {},
   "outputs": [
    {
     "data": {
      "text/plain": [
       "HOUR\n",
       "15    98\n",
       "17    95\n",
       "13    94\n",
       "18    94\n",
       "14    89\n",
       "16    88\n",
       "12    77\n",
       "11    72\n",
       "20    71\n",
       "19    68\n",
       "10    65\n",
       "9     51\n",
       "21    51\n",
       "8     35\n",
       "22    31\n",
       "23    26\n",
       "0     19\n",
       "7     13\n",
       "1      5\n",
       "5      4\n",
       "6      4\n",
       "3      3\n",
       "2      2\n",
       "Name: count, dtype: int64"
      ]
     },
     "execution_count": 87,
     "metadata": {},
     "output_type": "execute_result"
    }
   ],
   "source": [
    "data['HOUR'].value_counts()"
   ]
  },
  {
   "cell_type": "code",
   "execution_count": 93,
   "metadata": {},
   "outputs": [
    {
     "data": {
      "text/plain": [
       "<Axes: xlabel='HOUR', ylabel='count'>"
      ]
     },
     "execution_count": 93,
     "metadata": {},
     "output_type": "execute_result"
    },
    {
     "data": {
      "image/png": "iVBORw0KGgoAAAANSUhEUgAAAjsAAAGwCAYAAABPSaTdAAAAOXRFWHRTb2Z0d2FyZQBNYXRwbG90bGliIHZlcnNpb24zLjkuMSwgaHR0cHM6Ly9tYXRwbG90bGliLm9yZy/TGe4hAAAACXBIWXMAAA9hAAAPYQGoP6dpAAAvd0lEQVR4nO3de1iUdf7/8ddwJgQ8cZoUxCNpaoVmqOuWkYdcD+U3D18rTLO2sERaMtvQsgOpeUgzTdcst6y0b5ralWasYgfFwizdDK1cz2CZgGIiwf37o3V+kQdwZpDh0/NxXfeV87nvec97aO7hxee+7xmbZVmWAAAADOVV0w0AAABUJ8IOAAAwGmEHAAAYjbADAACMRtgBAABGI+wAAACjEXYAAIDRfGq6AU9QXl6uQ4cOKTg4WDabrabbAQAAVWBZlo4fPy673S4vr/PP3xB2JB06dEiNGzeu6TYAAIAT9u/fr0aNGp13PWFHUnBwsKRff1ghISE13A0AAKiKoqIiNW7c2PF7/HwIO5Lj0FVISAhhBwCAWqayU1A4QRkAABiNsAMAAIxG2AEAAEYj7AAAAKPVaNjZuHGj+vbtK7vdLpvNphUrVlRYb1mWJkyYoKioKAUGBioxMVG7d++usM1PP/2kYcOGKSQkRHXr1tXIkSN14sSJS/gsAACAJ6vRsFNcXKz27dtrzpw551w/ZcoUzZo1S/PmzVN2draCgoLUs2dPnTp1yrHNsGHD9O9//1vr1q3T6tWrtXHjRt1zzz2X6ikAAAAPZ7Msy6rpJqRfLxtbvny5BgwYIOnXWR273a6HHnpIf/vb3yRJhYWFioiI0CuvvKIhQ4Zo586dat26tT777DN16NBBkrRmzRrdfPPNOnDggOx2e5Ueu6ioSKGhoSosLOTScwAAaomq/v722HN29uzZo7y8PCUmJjrGQkND1alTJ23atEmStGnTJtWtW9cRdCQpMTFRXl5eys7OPm/tkpISFRUVVVgAAICZPDbs5OXlSZIiIiIqjEdERDjW5eXlKTw8vMJ6Hx8f1a9f37HNuWRkZCg0NNSx8FURAACYy2PDTnUaP368CgsLHcv+/ftruiUAAFBNPDbsREZGSpLy8/MrjOfn5zvWRUZG6siRIxXW//LLL/rpp58c25yLv7+/46sh+IoIAADM5rFhJzY2VpGRkcrMzHSMFRUVKTs7WwkJCZKkhIQEFRQUKCcnx7HNv/71L5WXl6tTp06XvGcAAOB5avSLQE+cOKFvv/3WcXvPnj3atm2b6tevr+joaKWkpOipp55SixYtFBsbq/T0dNntdscVW1dccYV69eqlUaNGad68eSotLdXo0aM1ZMiQKl+JBQAAzFajYefzzz/XDTfc4LidmpoqSUpKStIrr7yihx9+WMXFxbrnnntUUFCgrl27as2aNQoICHDc5/XXX9fo0aN14403ysvLSwMHDtSsWbMu+XMBAACeyWM+Z6cm8Tk7AADUPlX9/V2jMzsAANfFpy12uUbO1Dvd0AngmTz2BGUAAAB3IOwAAACjEXYAAIDRCDsAAMBohB0AAGA0wg4AADAaYQcAABiNsAMAAIxG2AEAAEbjE5QBAJcMn/aMmsDMDgAAMBphBwAAGI2wAwAAjMY5OwBwDpxbUnu44/+VxP8vkzGzAwAAjEbYAQAARiPsAAAAoxF2AACA0Qg7AADAaIQdAABgNMIOAAAwGmEHAAAYjbADAACMRtgBAABGI+wAAACjEXYAAIDRCDsAAMBohB0AAGA0wg4AADAaYQcAABiNsAMAAIzmU9MNAMAfRXzaYpdr5Ey90w2dAH8szOwAAACjEXYAAIDRCDsAAMBonLMDADiLO84vkjjHCJ6BmR0AAGA0wg4AADAaYQcAABiNsAMAAIxG2AEAAEYj7AAAAKMRdgAAgNEIOwAAwGiEHQAAYDTCDgAAMBphBwAAGI2wAwAAjEbYAQAARiPsAAAAoxF2AACA0Qg7AADAaIQdAABgNMIOAAAwGmEHAAAYjbADAACMRtgBAABGI+wAAACjEXYAAIDRCDsAAMBoHh12ysrKlJ6ertjYWAUGBqpZs2Z68sknZVmWYxvLsjRhwgRFRUUpMDBQiYmJ2r17dw12DQAAPIlHh53Jkydr7ty5euGFF7Rz505NnjxZU6ZM0ezZsx3bTJkyRbNmzdK8efOUnZ2toKAg9ezZU6dOnarBzgEAgKfwqekGLuTTTz9V//791adPH0lSkyZN9MYbb2jLli2Sfp3VmTlzph577DH1799fkrR48WJFRERoxYoVGjJkyDnrlpSUqKSkxHG7qKiomp8JAACoKR49s9O5c2dlZmZq165dkqQvv/xSH3/8sXr37i1J2rNnj/Ly8pSYmOi4T2hoqDp16qRNmzadt25GRoZCQ0MdS+PGjav3iQAAgBrj0TM7jzzyiIqKihQXFydvb2+VlZXp6aef1rBhwyRJeXl5kqSIiIgK94uIiHCsO5fx48crNTXVcbuoqIjAAwCAoTw67CxdulSvv/66lixZojZt2mjbtm1KSUmR3W5XUlKS03X9/f3l7+/vxk4BAICn8uiwk5aWpkceecRx7k3btm21d+9eZWRkKCkpSZGRkZKk/Px8RUVFOe6Xn5+vq666qiZaBgAAHsajz9k5efKkvLwqtujt7a3y8nJJUmxsrCIjI5WZmelYX1RUpOzsbCUkJFzSXgEAgGfy6Jmdvn376umnn1Z0dLTatGmjL774QtOnT9eIESMkSTabTSkpKXrqqafUokULxcbGKj09XXa7XQMGDKjZ5gEAgEfw6LAze/Zspaen6/7779eRI0dkt9t17733asKECY5tHn74YRUXF+uee+5RQUGBunbtqjVr1iggIKAGOwcAAJ7Co8NOcHCwZs6cqZkzZ553G5vNpkmTJmnSpEmXrjEAAFBrePQ5OwAAAK4i7AAAAKMRdgAAgNE8+pwdAKhMfNpil2vkTL3TDZ0A8FTM7AAAAKMRdgAAgNEIOwAAwGiEHQAAYDTCDgAAMBphBwAAGI2wAwAAjEbYAQAARiPsAAAAoxF2AACA0Qg7AADAaIQdAABgNMIOAAAwGmEHAAAYjbADAACMRtgBAABGI+wAAACj+dR0AwD+GOLTFrulTs7UO91SB8AfBzM7AADAaIQdAABgNMIOAAAwGufsAABwCbnj/DXOXbs4zOwAAACjEXYAAIDRCDsAAMBohB0AAGA0wg4AADAaYQcAABiNsAMAAIxG2AEAAEYj7AAAAKPxCcoAAJwDn3RsDmZ2AACA0Qg7AADAaIQdAABgNMIOAAAwGmEHAAAYjbADAACMRtgBAABGI+wAAACjEXYAAIDRCDsAAMBofF0EgLPwMfkATMLMDgAAMBphBwAAGI2wAwAAjEbYAQAARiPsAAAAoxF2AACA0Qg7AADAaIQdAABgNMIOAAAwGmEHAAAYjbADAACMRtgBAABGI+wAAACjEXYAAIDRPD7sHDx4ULfffrsaNGigwMBAtW3bVp9//rljvWVZmjBhgqKiohQYGKjExETt3r27BjsGAACexKPDzrFjx9SlSxf5+vrq/fff19dff61p06apXr16jm2mTJmiWbNmad68ecrOzlZQUJB69uypU6dO1WDnAADAU/jUdAMXMnnyZDVu3FiLFi1yjMXGxjr+bVmWZs6cqccee0z9+/eXJC1evFgRERFasWKFhgwZcs66JSUlKikpcdwuKiqqpmcAAABqmkfP7KxcuVIdOnTQbbfdpvDwcF199dVasGCBY/2ePXuUl5enxMREx1hoaKg6deqkTZs2nbduRkaGQkNDHUvjxo2r9XkAAICa49Fh5/vvv9fcuXPVokULrV27Vvfdd58efPBBvfrqq5KkvLw8SVJERESF+0VERDjWncv48eNVWFjoWPbv3199TwIAANQojz6MVV5erg4dOuiZZ56RJF199dXasWOH5s2bp6SkJKfr+vv7y9/f311tAgAAD+bRMztRUVFq3bp1hbErrrhC+/btkyRFRkZKkvLz8ytsk5+f71gHAAD+2Dw67HTp0kW5ubkVxnbt2qWYmBhJv56sHBkZqczMTMf6oqIiZWdnKyEh4ZL2CgAAPJNHH8YaO3asOnfurGeeeUaDBg3Sli1bNH/+fM2fP1+SZLPZlJKSoqeeekotWrRQbGys0tPTZbfbNWDAgJptHgAAeASPDjsdO3bU8uXLNX78eE2aNEmxsbGaOXOmhg0b5tjm4YcfVnFxse655x4VFBSoa9euWrNmjQICAmqwcwAA4Ck8OuxI0l/+8hf95S9/Oe96m82mSZMmadKkSZewKwAAUFt49Dk7AAAAriLsAAAAoxF2AACA0Qg7AADAaIQdAABgNMIOAAAwmlNhp3v37iooKDhrvKioSN27d3e1JwAAALdxKuxs2LBBp0+fPmv81KlT+uijj1xuCgAAwF0u6kMFv/rqK8e/v/76a+Xl5Tlul5WVac2aNbr88svd1x0AAICLLirsXHXVVbLZbLLZbOc8XBUYGKjZs2e7rTkAAABXXVTY2bNnjyzLUtOmTbVlyxaFhYU51vn5+Sk8PFze3t5ubxIAAMBZFxV2YmJiJEnl5eXV0gwAAIC7Of1FoLt379b69et15MiRs8LPhAkTXG4MAADAHZwKOwsWLNB9992nhg0bKjIyUjabzbHOZrMRdgAAgMdwKuw89dRTevrppzVu3Dh39wMAAOBWTn3OzrFjx3Tbbbe5uxcAAAC3cyrs3Hbbbfrggw/c3QsAAIDbOXUYq3nz5kpPT9fmzZvVtm1b+fr6Vlj/4IMPuqU5AAAAVzkVdubPn686deooKytLWVlZFdbZbDbCDgAA8BhOhZ09e/a4uw8AAIBq4dQ5OwAAALWFUzM7I0aMuOD6l19+2almAAAA3M2psHPs2LEKt0tLS7Vjxw4VFBSc8wtCAQAAaopTYWf58uVnjZWXl+u+++5Ts2bNXG4KAADAXdx2zo6Xl5dSU1M1Y8YMd5UEAABwmdNfBHou3333nX755Rd3lgRwAfFpi91SJ2fqnW6pA6BmuOO9wOT3AafCTmpqaoXblmXp8OHDeu+995SUlOSWxgAAANzBqbDzxRdfVLjt5eWlsLAwTZs2rdIrtQAAAC4lp8LO+vXr3d0HAABAtXDpnJ0ffvhBubm5kqRWrVopLCzMLU0BAAC4i1NXYxUXF2vEiBGKiopSt27d1K1bN9ntdo0cOVInT550d48AAABOcyrspKamKisrS6tWrVJBQYEKCgr07rvvKisrSw899JC7ewQAAHCaU4ex/u///k9vv/22rr/+esfYzTffrMDAQA0aNEhz5851V38AAAAucWpm5+TJk4qIiDhrPDw8nMNYAADAozgVdhISEjRx4kSdOnXKMfbzzz/riSeeUEJCgtuaAwAAcJVTh7FmzpypXr16qVGjRmrfvr0k6csvv5S/v78++OADtzYIAADgCqfCTtu2bbV79269/vrr+uabbyRJQ4cO1bBhwxQYGOjWBgEAAFzhVNjJyMhQRESERo0aVWH85Zdf1g8//KBx48a5pTkAAABXOXXOzksvvaS4uLizxtu0aaN58+a53BQAAIC7OBV28vLyFBUVddZ4WFiYDh8+7HJTAAAA7uJU2GncuLE++eSTs8Y/+eQT2e12l5sCAABwF6fO2Rk1apRSUlJUWlqq7t27S5IyMzP18MMP8wnKAADAozgVdtLS0nT06FHdf//9On36tCQpICBA48aN0/jx493aIAAAgCucCjs2m02TJ09Wenq6du7cqcDAQLVo0UL+/v7u7g8AAMAlToWdM+rUqaOOHTu6qxcAAAC3c+oEZQAAgNqCsAMAAIxG2AEAAEYj7AAAAKMRdgAAgNEIOwAAwGiEHQAAYDTCDgAAMBphBwAAGI2wAwAAjEbYAQAARiPsAAAAoxF2AACA0Qg7AADAaIQdAABgtFoVdp599lnZbDalpKQ4xk6dOqXk5GQ1aNBAderU0cCBA5Wfn19zTQIAAI9Sa8LOZ599ppdeeknt2rWrMD527FitWrVKy5YtU1ZWlg4dOqRbb721hroEAACeplaEnRMnTmjYsGFasGCB6tWr5xgvLCzUwoULNX36dHXv3l3x8fFatGiRPv30U23evLkGOwYAAJ6iVoSd5ORk9enTR4mJiRXGc3JyVFpaWmE8Li5O0dHR2rRp03nrlZSUqKioqMICAADM5FPTDVTmzTff1NatW/XZZ5+dtS4vL09+fn6qW7duhfGIiAjl5eWdt2ZGRoaeeOIJd7cKAAA8kEfP7Ozfv19jxozR66+/roCAALfVHT9+vAoLCx3L/v373VYbAAB4Fo8OOzk5OTpy5IiuueYa+fj4yMfHR1lZWZo1a5Z8fHwUERGh06dPq6CgoML98vPzFRkZed66/v7+CgkJqbAAAAAzefRhrBtvvFHbt2+vMHbXXXcpLi5O48aNU+PGjeXr66vMzEwNHDhQkpSbm6t9+/YpISGhJloGAAAexqPDTnBwsK688soKY0FBQWrQoIFjfOTIkUpNTVX9+vUVEhKiBx54QAkJCbruuutqomUAAOBhPDrsVMWMGTPk5eWlgQMHqqSkRD179tSLL75Y020BAAAPUevCzoYNGyrcDggI0Jw5czRnzpyaaQgAAHg0jz5BGQAAwFWEHQAAYDTCDgAAMBphBwAAGI2wAwAAjEbYAQAARiPsAAAAoxF2AACA0Qg7AADAaIQdAABgNMIOAAAwWq37biygtopPW+xyjZypd7qhEwD4Y2FmBwAAGI2wAwAAjEbYAQAARiPsAAAAoxF2AACA0Qg7AADAaIQdAABgNMIOAAAwGmEHAAAYjbADAACMRtgBAABGI+wAAACjEXYAAIDR+NZzAABwTvFpi12ukTP1Tjd04hpmdgAAgNEIOwAAwGiEHQAAYDTCDgAAMBphBwAAGI2wAwAAjEbYAQAARiPsAAAAoxF2AACA0Qg7AADAaIQdAABgNMIOAAAwGmEHAAAYjbADAACMRtgBAABGI+wAAACjEXYAAIDRfGq6AQAA8McRn7bY5Ro5U++8qO2Z2QEAAEYj7AAAAKMRdgAAgNEIOwAAwGiEHQAAYDTCDgAAMBphBwAAGI2wAwAAjEbYAQAARiPsAAAAoxF2AACA0Qg7AADAaIQdAABgNMIOAAAwGmEHAAAYjbADAACMRtgBAABG8+iwk5GRoY4dOyo4OFjh4eEaMGCAcnNzK2xz6tQpJScnq0GDBqpTp44GDhyo/Pz8GuoYAAB4Go8OO1lZWUpOTtbmzZu1bt06lZaWqkePHiouLnZsM3bsWK1atUrLli1TVlaWDh06pFtvvbUGuwYAAJ7Ep6YbuJA1a9ZUuP3KK68oPDxcOTk56tatmwoLC7Vw4UItWbJE3bt3lyQtWrRIV1xxhTZv3qzrrruuJtoGAAAexKNndn6vsLBQklS/fn1JUk5OjkpLS5WYmOjYJi4uTtHR0dq0adN565SUlKioqKjCAgAAzFRrwk55eblSUlLUpUsXXXnllZKkvLw8+fn5qW7duhW2jYiIUF5e3nlrZWRkKDQ01LE0bty4OlsHAAA1qNaEneTkZO3YsUNvvvmmy7XGjx+vwsJCx7J//343dAgAADyRR5+zc8bo0aO1evVqbdy4UY0aNXKMR0ZG6vTp0yooKKgwu5Ofn6/IyMjz1vP395e/v391tgwAADyER4cdy7L0wAMPaPny5dqwYYNiY2MrrI+Pj5evr68yMzM1cOBASVJubq727dunhIQEpx4zPm2xy33nTL3T5RoAAMA9PDrsJCcna8mSJXr33XcVHBzsOA8nNDRUgYGBCg0N1ciRI5Wamqr69esrJCREDzzwgBISErgSCwAASPLwsDN37lxJ0vXXX19hfNGiRRo+fLgkacaMGfLy8tLAgQNVUlKinj176sUXX7zEnQIAAE/l0WHHsqxKtwkICNCcOXM0Z86cS9ARAACobWrN1VgAAADOIOwAAACjEXYAAIDRCDsAAMBohB0AAGA0wg4AADAaYQcAABiNsAMAAIxG2AEAAEYj7AAAAKMRdgAAgNEIOwAAwGiEHQAAYDTCDgAAMBphBwAAGI2wAwAAjEbYAQAARiPsAAAAo/nUdAOAp4lPW+xyjZypd7qhEwCAOzCzAwAAjEbYAQAARiPsAAAAoxF2AACA0Qg7AADAaIQdAABgNMIOAAAwGmEHAAAYjbADAACMRtgBAABGI+wAAACjEXYAAIDRCDsAAMBohB0AAGA0wg4AADAaYQcAABiNsAMAAIxG2AEAAEYj7AAAAKMRdgAAgNEIOwAAwGiEHQAAYDTCDgAAMBphBwAAGI2wAwAAjEbYAQAARiPsAAAAoxF2AACA0XxquoE/gvi0xW6pkzP1TrfUAQDgj4SZHQAAYDTCDgAAMBqHsXBJuONQ3rkO41VXXQCAOZjZAQAARiPsAAAAoxF2AACA0ThnB2fhPBgAgEmY2QEAAEYj7AAAAKMRdgAAgNE4Z6cW49waAAAqx8wOAAAwGmEHAAAYzZiwM2fOHDVp0kQBAQHq1KmTtmzZUtMtAQAAD2BE2HnrrbeUmpqqiRMnauvWrWrfvr169uypI0eO1HRrAACghhkRdqZPn65Ro0bprrvuUuvWrTVv3jxddtllevnll2u6NQAAUMNq/dVYp0+fVk5OjsaPH+8Y8/LyUmJiojZt2nTO+5SUlKikpMRxu7CwUJJUVFSkspKfXe6pqKiowm131Kyuur+vWV116dVze62uurW51+qq+0frtbrq1uZeq6vuH7XXM/+1LOvCd7BquYMHD1qSrE8//bTCeFpamnXttdee8z4TJ060JLGwsLCwsLAYsOzfv/+CWaHWz+w4Y/z48UpNTXXcLi8v108//aQGDRrIZrOd935FRUVq3Lix9u/fr5CQELf1U5vq0iu9VlddeqXX2tRrddWl14ura1mWjh8/LrvdfsHtan3Yadiwoby9vZWfn19hPD8/X5GRkee8j7+/v/z9/SuM1a1bt8qPGRIS4tb/sbWxLr3Sa3XVpVd6rU29Vlddeq163dDQ0Eq3qfUnKPv5+Sk+Pl6ZmZmOsfLycmVmZiohIaEGOwMAAJ6g1s/sSFJqaqqSkpLUoUMHXXvttZo5c6aKi4t111131XRrAACghhkRdgYPHqwffvhBEyZMUF5enq666iqtWbNGERERbn0cf39/TZw48axDYH+kuvRKr9VVl17ptTb1Wl116bV66tosq7LrtQAAAGqvWn/ODgAAwIUQdgAAgNEIOwAAwGiEHQAAYDTCzkWYM2eOmjRpooCAAHXq1Elbtmxxqd7GjRvVt29f2e122Ww2rVixwuUeMzIy1LFjRwUHBys8PFwDBgxQbm6uy3Xnzp2rdu3aOT7kKSEhQe+//75LNR9//HHZbLYKS1xcnMu9StLBgwd1++23q0GDBgoMDFTbtm31+eefu1SzSZMmZ/Vrs9mUnJzsdM2ysjKlp6crNjZWgYGBatasmZ588snKv+elEsePH1dKSopiYmIUGBiozp0767PPPruoGpW9Pi3L0oQJExQVFaXAwEAlJiZq9+7dLtd955131KNHD8cnmm/bts2lmqWlpRo3bpzatm2roKAg2e123XnnnTp06JDLvT7++OOKi4tTUFCQ6tWrp8TERGVnZ7tc97f++te/ymazaebMmS7VHD58+Fmv3V69erml1507d6pfv34KDQ1VUFCQOnbsqH379jld81z7mc1m09SpU13q9cSJExo9erQaNWqkwMBAxxdHu1IzPz9fw4cPl91u12WXXaZevXpVuh9U5X361KlTSk5OVoMGDVSnTh0NHDjwrA/Pdabu/Pnzdf311yskJEQ2m00FBQUXrFmVuj/99JMeeOABtWrVSoGBgYqOjtaDDz7o+N5JZ3u999571axZMwUGBiosLEz9+/fXN998U2m/50LYqaK33npLqampmjhxorZu3ar27durZ8+eOnLkiNM1i4uL1b59e82ZM8dtfWZlZSk5OVmbN2/WunXrVFpaqh49eqi4uNiluo0aNdKzzz6rnJwcff755+revbv69++vf//73y7VbdOmjQ4fPuxYPv74Y5fqSdKxY8fUpUsX+fr66v3339fXX3+tadOmqV69ei7V/eyzzyr0um7dOknSbbfd5nTNyZMna+7cuXrhhRe0c+dOTZ48WVOmTNHs2bNd6vXuu+/WunXr9M9//lPbt29Xjx49lJiYqIMHD1a5RmWvzylTpmjWrFmaN2+esrOzFRQUpJ49e+rUqVMu1S0uLlbXrl01efJkt/R68uRJbd26Venp6dq6daveeecd5ebmql+/fi7VlaSWLVvqhRde0Pbt2/Xxxx+rSZMm6tGjh3744QeX6p6xfPlybd68udKPwq9qzV69elV4Db/xxhsu1/3uu+/UtWtXxcXFacOGDfrqq6+Unp6ugIAAp2v+tsfDhw/r5Zdfls1m08CBA13qNTU1VWvWrNFrr72mnTt3KiUlRaNHj9bKlSudqmlZlgYMGKDvv/9e7777rr744gvFxMQoMTHxgu+5VXmfHjt2rFatWqVly5YpKytLhw4d0q233nrB51+VuidPnlSvXr306KOPXrDWxdQ9dOiQDh06pOeee047duzQK6+8ojVr1mjkyJEu9RofH69FixZp586dWrt2rSzLUo8ePVRWVlbl3h1c/yrOP4Zrr73WSk5OdtwuKyuz7Ha7lZGR4Zb6kqzly5e7pdZvHTlyxJJkZWVlub12vXr1rH/84x9O33/ixIlW+/bt3dfQf40bN87q2rWr2+v+3pgxY6xmzZpZ5eXlTtfo06ePNWLEiApjt956qzVs2DCna548edLy9va2Vq9eXWH8mmuusf7+9787VfP3r8/y8nIrMjLSmjp1qmOsoKDA8vf3t9544w2n6/7Wnj17LEnWF1984VKv57JlyxZLkrV371631i0sLLQkWR9++KHLdQ8cOGBdfvnl1o4dO6yYmBhrxowZLtVMSkqy+vfvX+UaVa07ePBg6/bbb3drzd/r37+/1b17d5frtmnTxpo0aVKFsYvZL35fMzc315Jk7dixwzFWVlZmhYWFWQsWLKhyr79/ny4oKLB8fX2tZcuWObbZuXOnJcnatGmT03V/a/369ZYk69ixY1WuV5W6ZyxdutTy8/OzSktL3Vbzyy+/tCRZ33777UX3zMxOFZw+fVo5OTlKTEx0jHl5eSkxMVGbNm2qwc4qd2YasX79+m6rWVZWpjfffFPFxcUufyXH7t27Zbfb1bRpUw0bNuyCU99VtXLlSnXo0EG33XabwsPDdfXVV2vBggUu1/2t06dP67XXXtOIESMu+OWxlencubMyMzO1a9cuSdKXX36pjz/+WL1793a65i+//KKysrKz/rIODAx0y8yZJO3Zs0d5eXkV9onQ0FB16tTJ4/cJ6df9wmazXdR34lXm9OnTmj9/vkJDQ9W+fXuXapWXl+uOO+5QWlqa2rRp46YOpQ0bNig8PFytWrXSfffdp6NHj7pUr7y8XO+9955atmypnj17Kjw8XJ06dXLLIfkz8vPz9d57711wlqCqOnfurJUrV+rgwYOyLEvr16/Xrl271KNHD6fqlZSUSFKFfc3Ly0v+/v4Xta/9/n06JydHpaWlFfavuLg4RUdHX9T+VR3v/1WtW1hYqJCQEPn4VO2ziyurWVxcrEWLFik2NlaNGze+yI45jFUlP/74o8rKys76ROaIiAjl5eXVUFeVKy8vV0pKirp06aIrr7zS5Xrbt29XnTp15O/vr7/+9a9avny5Wrdu7XS9Tp06OaY7586dqz179uhPf/qTjh8/7lKf33//vebOnasWLVpo7dq1uu+++/Tggw/q1Vdfdanub61YsUIFBQUaPny4S3UeeeQRDRkyRHFxcfL19dXVV1+tlJQUDRs2zOmawcHBSkhI0JNPPqlDhw6prKxMr732mjZt2qTDhw+71O8ZZ173tW2fkH49F2LcuHEaOnSoW768cPXq1apTp44CAgI0Y8YMrVu3Tg0bNnSp5uTJk+Xj46MHH3zQ5f7O6NWrlxYvXqzMzExNnjxZWVlZ6t27t3OHBP7ryJEjOnHihJ599ln16tVLH3zwgW655RbdeuutysrKckvfr776qoKDgys9hFMVs2fPVuvWrdWoUSP5+fmpV69emjNnjrp16+ZUvTMBZPz48Tp27JhOnz6tyZMn68CBA1Xe1871Pp2Xlyc/P7+zwvjF7F/ufv+/mLo//vijnnzySd1zzz0u13zxxRdVp04d1alTR++//77WrVsnPz+/i+7biK+LwLklJydrx44dbvtrvlWrVtq2bZsKCwv19ttvKykpSVlZWU4Hnt/OXrRr106dOnVSTEyMli5d6tJfceXl5erQoYOeeeYZSdLVV1+tHTt2aN68eUpKSnK67m8tXLhQvXv3rtK5FBeydOlSvf7661qyZInatGmjbdu2KSUlRXa73aVe//nPf2rEiBG6/PLL5e3trWuuuUZDhw5VTk6OS/3WdqWlpRo0aJAsy9LcuXPdUvOGG27Qtm3b9OOPP2rBggUaNGiQsrOzFR4e7lS9nJwcPf/889q6datLs4a/N2TIEMe/27Ztq3bt2qlZs2basGGDbrzxRqdqlpeXS5L69++vsWPHSpKuuuoqffrpp5o3b57+/Oc/u9z3yy+/rGHDhl3wHKCqmj17tjZv3qyVK1cqJiZGGzduVHJysux2e4VZlKry9fXVO++8o5EjR6p+/fry9vZWYmKievfuXeWLDNz9Pl3TdYuKitSnTx+1bt1ajz/+uMs1hw0bpptuukmHDx/Wc889p0GDBumTTz656NcDMztV0LBhQ3l7e591Jnx+fr4iIyNrqKsLGz16tFavXq3169erUaNGbqnp5+en5s2bKz4+XhkZGWrfvr2ef/55t9SWpLp166ply5b69ttvXaoTFRV1VgC74oor3HKITJL27t2rDz/8UHfffbfLtdLS0hyzO23bttUdd9yhsWPHKiMjw6W6zZo1U1ZWlk6cOKH9+/dry5YtKi0tVdOmTV3uWZLjdV+b9okzQWfv3r1at26dW2Z1JCkoKEjNmzfXddddp4ULF8rHx0cLFy50ut5HH32kI0eOKDo6Wj4+PvLx8dHevXv10EMPqUmTJm7pWZKaNm2qhg0burS/NWzYUD4+PtW2v3300UfKzc11y772888/69FHH9X06dPVt29ftWvXTqNHj9bgwYP13HPPOV03Pj5e27ZtU0FBgQ4fPqw1a9bo6NGjVdrXzvc+HRkZqdOnT591pVRV96/qeP+vSt3jx4+rV69eCg4O1vLly+Xr6+tyzdDQULVo0ULdunXT22+/rW+++UbLly+/6N4JO1Xg5+en+Ph4ZWZmOsbKy8uVmZnp8jkr7mZZlkaPHq3ly5frX//6l2JjY6vtscrLyx3HrN3hxIkT+u677xQVFeVSnS5dupx1CeOuXbsUExPjUt0zFi1apPDwcPXp08flWidPnpSXV8Xd0Nvb2/EXs6uCgoIUFRWlY8eOae3aterfv79b6sbGxioyMrLCPlFUVKTs7GyP2yek/x90du/erQ8//FANGjSotsdydb+444479NVXX2nbtm2OxW63Ky0tTWvXrnVbnwcOHNDRo0dd2t/8/PzUsWPHatvfFi5cqPj4eJfPgZJ+fQ2UlpZW2/4WGhqqsLAw7d69W59//vkF97XK3qfj4+Pl6+tbYf/Kzc3Vvn37Lrh/Vdf7f1XqFhUVqUePHvLz89PKlSsrnXlxplfLsmRZllP7F4exqig1NVVJSUnq0KGDrr32Ws2cOVPFxcW66667nK554sSJCn9V7dmzR9u2bVP9+vUVHR3tVM3k5GQtWbJE7777roKDgx3Hd0NDQxUYGOh0r+PHj1fv3r0VHR2t48ePa8mSJdqwYYNLb75/+9vf1LdvX8XExOjQoUOaOHGivL29NXToUKdrSr9estm5c2c988wzGjRokLZs2aL58+dr/vz5LtWVfv1FtmjRIiUlJVX5xLsL6du3r55++mlFR0erTZs2+uKLLzR9+nSNGDHCpbpnLtNs1aqVvv32W6WlpSkuLu6iXq+VvT5TUlL01FNPqUWLFoqNjVV6errsdrsGDBjgUt2ffvpJ+/btc3wOzplfpJGRkef9q/ZCNaOiovQ///M/2rp1q1avXq2ysjLHflG/fv0LHv+/UN0GDRro6aefVr9+/RQVFaUff/xRc+bM0cGDByv9OILKfga/D2O+vr6KjIxUq1atnKpZv359PfHEExo4cKAiIyP13Xff6eGHH1bz5s3Vs2dPl3pNS0vT4MGD1a1bN91www1as2aNVq1apQ0bNjhdU/r1l+eyZcs0bdq0C/Z3MXX//Oc/Ky0tTYGBgYqJiVFWVpYWL16s6dOnO11z2bJlCgsLU3R0tLZv364xY8ZowIABFzzpubL36dDQUI0cOVKpqamqX7++QkJC9MADDyghIUHXXXed03WlX88HysvLczyn7du3Kzg4WNHR0ec9ObiyumeCzsmTJ/Xaa6+pqKhIRUVFkqSwsDB5e3tfdM3vv/9eb731lnr06KGwsDAdOHBAzz77rAIDA3XzzTef92dwXhd9/dYf2OzZs63o6GjLz8/Puvbaa63Nmze7VO/MpX+/X5KSkpyuea56kqxFixa51OuIESOsmJgYy8/PzwoLC7NuvPFG64MPPnCp5uDBg62oqCjLz8/Puvzyy63Bgwc7dUnhuaxatcq68sorLX9/fysuLs6aP3++W+quXbvWkmTl5ua6pV5RUZE1ZswYKzo62goICLCaNm1q/f3vf7dKSkpcqvvWW29ZTZs2tfz8/KzIyEgrOTnZKigouKgalb0+y8vLrfT0dCsiIsLy9/e3brzxxir9XCqru2jRonOunzhxolM1z1zCfq5l/fr1Tvf6888/W7fccotlt9stPz8/KyoqyurXr5+1ZcsWl38Gv1eVS88vVPPkyZNWjx49rLCwMMvX19eKiYmxRo0aZeXl5bml14ULF1rNmze3AgICrPbt21srVqxwueZLL71kBQYGXtTrtrK6hw8ftoYPH27Z7XYrICDAatWqlTVt2rQLfnxEZTWff/55q1GjRpavr68VHR1tPfbYY5Xuv1V5n/7555+t+++/36pXr5512WWXWbfccot1+PBhl+tOnDjxon9HVFb3fD8jSdaePXucqnnw4EGrd+/eVnh4uOXr62s1atTI+t///V/rm2++ueDP4Hxs/31QAAAAI3HODgAAMBphBwAAGI2wAwAAjEbYAQAARiPsAAAAoxF2AACA0Qg7AADAaIQdAABgNMIOAAAwGmEHgEcaPnz4Ob9na8OGDbLZbI5vhC4rK9OMGTPUtm1bBQQEqF69eurdu7c++eSTCvd7/PHHddVVV51V7z//+Y9sNpu2bdtWof6ZJSwsTDfffLO2b9/u5mcI4FIh7ACotSzL0pAhQzRp0iSNGTNGO3fu1IYNG9S4cWNdf/31WrFihdO1c3NzdfjwYa1du1YlJSXq06ePTp8+7b7mAVwyfOs5gFpr6dKlevvtt7Vy5Ur17dvXMT5//nwdPXpUd999t2666SYFBQVddO3w8HDVrVtXkZGRSklJUb9+/fTNN9+oXbt27nwKAC4BZnYA1FpLlixRy5YtKwSdMx566CEdPXpU69atc+kxCgsL9eabb0qS/Pz8XKoFoGYwswPAY61evVp16tSpMFZWVub4965du3TFFVec875nxnft2uXUYzdq1EiSVFxcLEnq16+f4uLinKoFoGYRdgB4rBtuuEFz586tMJadna3bb7/dcduyrGp57I8++kiXXXaZNm/erGeeeUbz5s2rlscBUP0IOwA8VlBQkJo3b15h7MCBA45/t2zZUjt37jznfc+Mt2zZUpIUEhKiwsLCs7Y7c1VXaGhohfHY2FjVrVtXrVq10pEjRzR48GBt3LjR6ecCoOZwzg6AWmvIkCHavXu3Vq1adda6adOmqUGDBrrpppskSa1atdKBAweUn59fYbutW7cqICBA0dHR532c5ORk7dixQ8uXL3fvEwBwSRB2ANRaQ4YM0S233KKkpCQtXLhQ//nPf/TVV1/p3nvv1cqVK/WPf/zDcSVWz5491apVKw0dOlSffvqpvv/+e7399tt67LHHNGbMGHl7e5/3cS677DKNGjVKEydOrLbDZgCqD2EHQK1ls9m0dOlSPfroo5oxY4ZatWqlP/3pT9q7d682bNhQ4UMJfXx89MEHHyg6OlpDhw7VlVdeqYkTJ2rMmDF68sknK32s0aNHa+fOnVq2bFk1PiMA1cFm8WcKAAAwGDM7AADAaIQdAABgNMIOAAAwGmEHAAAYjbADAACMRtgBAABGI+wAAACjEXYAAIDRCDsAAMBohB0AAGA0wg4AADDa/wNPQd8jzgUlUgAAAABJRU5ErkJggg==",
      "text/plain": [
       "<Figure size 640x480 with 1 Axes>"
      ]
     },
     "metadata": {},
     "output_type": "display_data"
    }
   ],
   "source": [
    "sns.countplot(x =data['HOUR'])"
   ]
  },
  {
   "cell_type": "markdown",
   "metadata": {},
   "source": [
    "Observation : 1pm to 6pm maximum booking"
   ]
  },
  {
   "cell_type": "markdown",
   "metadata": {},
   "source": [
    "### Purpose of the Trip"
   ]
  },
  {
   "cell_type": "code",
   "execution_count": 94,
   "metadata": {},
   "outputs": [
    {
     "data": {
      "text/plain": [
       "PURPOSE\n",
       "Other              502\n",
       "Meeting            187\n",
       "Meal/Entertain     160\n",
       "Errand/Supplies    128\n",
       "Customer Visit     101\n",
       "Temporary Site      50\n",
       "Between Offices     18\n",
       "Moving               4\n",
       "Airport/Travel       3\n",
       "Charity ($)          1\n",
       "Commute              1\n",
       "Name: count, dtype: int64"
      ]
     },
     "execution_count": 94,
     "metadata": {},
     "output_type": "execute_result"
    }
   ],
   "source": [
    "data['PURPOSE'].value_counts()"
   ]
  },
  {
   "cell_type": "code",
   "execution_count": 97,
   "metadata": {},
   "outputs": [
    {
     "data": {
      "text/plain": [
       "<Axes: xlabel='PURPOSE', ylabel='count'>"
      ]
     },
     "execution_count": 97,
     "metadata": {},
     "output_type": "execute_result"
    },
    {
     "data": {
      "image/png": "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",
      "text/plain": [
       "<Figure size 2000x500 with 1 Axes>"
      ]
     },
     "metadata": {},
     "output_type": "display_data"
    }
   ],
   "source": [
    "plt.figure(figsize=(20,5))\n",
    "\n",
    "# data['PURPOSE'].value_counts().plot(kind='bar')\n",
    "\n",
    "sns.countplot(x = data['PURPOSE'])"
   ]
  },
  {
   "cell_type": "markdown",
   "metadata": {},
   "source": [
    "Observation : Excluding Other we have Meeting as the highest purpose of booking the cab"
   ]
  },
  {
   "cell_type": "markdown",
   "metadata": {},
   "source": [
    "### Month"
   ]
  },
  {
   "cell_type": "code",
   "execution_count": 102,
   "metadata": {},
   "outputs": [
    {
     "data": {
      "text/plain": [
       "<Axes: xlabel='MONTH', ylabel='count'>"
      ]
     },
     "execution_count": 102,
     "metadata": {},
     "output_type": "execute_result"
    },
    {
     "data": {
      "image/png": "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",
      "text/plain": [
       "<Figure size 1500x500 with 1 Axes>"
      ]
     },
     "metadata": {},
     "output_type": "display_data"
    }
   ],
   "source": [
    "plt.figure(figsize=(15,5))\n",
    "\n",
    "# data['MONTH'].value_counts().plot(kind='bar')\n",
    "\n",
    "sns.countplot(x = data['MONTH'])"
   ]
  },
  {
   "cell_type": "markdown",
   "metadata": {},
   "source": [
    "No Observation from the above graph"
   ]
  },
  {
   "cell_type": "markdown",
   "metadata": {},
   "source": [
    "### Time"
   ]
  },
  {
   "cell_type": "code",
   "execution_count": 103,
   "metadata": {},
   "outputs": [
    {
     "data": {
      "text/html": [
       "<div>\n",
       "<style scoped>\n",
       "    .dataframe tbody tr th:only-of-type {\n",
       "        vertical-align: middle;\n",
       "    }\n",
       "\n",
       "    .dataframe tbody tr th {\n",
       "        vertical-align: top;\n",
       "    }\n",
       "\n",
       "    .dataframe thead th {\n",
       "        text-align: right;\n",
       "    }\n",
       "</style>\n",
       "<table border=\"1\" class=\"dataframe\">\n",
       "  <thead>\n",
       "    <tr style=\"text-align: right;\">\n",
       "      <th></th>\n",
       "      <th>START_DATE</th>\n",
       "      <th>END_DATE</th>\n",
       "      <th>CATEGORY</th>\n",
       "      <th>START</th>\n",
       "      <th>STOP</th>\n",
       "      <th>MILES</th>\n",
       "      <th>PURPOSE</th>\n",
       "      <th>HOUR</th>\n",
       "      <th>MINUTES</th>\n",
       "      <th>DAY</th>\n",
       "      <th>MONTH</th>\n",
       "      <th>DAYOFWEEK</th>\n",
       "      <th>DAYNAME</th>\n",
       "    </tr>\n",
       "  </thead>\n",
       "  <tbody>\n",
       "    <tr>\n",
       "      <th>0</th>\n",
       "      <td>2016-01-01 21:11:00</td>\n",
       "      <td>2016-01-01 21:17:00</td>\n",
       "      <td>Business</td>\n",
       "      <td>Fort Pierce</td>\n",
       "      <td>Fort Pierce</td>\n",
       "      <td>5.1</td>\n",
       "      <td>Meal/Entertain</td>\n",
       "      <td>21</td>\n",
       "      <td>11</td>\n",
       "      <td>1</td>\n",
       "      <td>1</td>\n",
       "      <td>4</td>\n",
       "      <td>Friday</td>\n",
       "    </tr>\n",
       "    <tr>\n",
       "      <th>1</th>\n",
       "      <td>2016-01-02 01:25:00</td>\n",
       "      <td>2016-01-02 01:37:00</td>\n",
       "      <td>Business</td>\n",
       "      <td>Fort Pierce</td>\n",
       "      <td>Fort Pierce</td>\n",
       "      <td>5.0</td>\n",
       "      <td>Other</td>\n",
       "      <td>1</td>\n",
       "      <td>25</td>\n",
       "      <td>2</td>\n",
       "      <td>1</td>\n",
       "      <td>5</td>\n",
       "      <td>Saturday</td>\n",
       "    </tr>\n",
       "    <tr>\n",
       "      <th>2</th>\n",
       "      <td>2016-01-02 20:25:00</td>\n",
       "      <td>2016-01-02 20:38:00</td>\n",
       "      <td>Business</td>\n",
       "      <td>Fort Pierce</td>\n",
       "      <td>Fort Pierce</td>\n",
       "      <td>4.8</td>\n",
       "      <td>Errand/Supplies</td>\n",
       "      <td>20</td>\n",
       "      <td>25</td>\n",
       "      <td>2</td>\n",
       "      <td>1</td>\n",
       "      <td>5</td>\n",
       "      <td>Saturday</td>\n",
       "    </tr>\n",
       "    <tr>\n",
       "      <th>3</th>\n",
       "      <td>2016-01-05 17:31:00</td>\n",
       "      <td>2016-01-05 17:45:00</td>\n",
       "      <td>Business</td>\n",
       "      <td>Fort Pierce</td>\n",
       "      <td>Fort Pierce</td>\n",
       "      <td>4.7</td>\n",
       "      <td>Meeting</td>\n",
       "      <td>17</td>\n",
       "      <td>31</td>\n",
       "      <td>5</td>\n",
       "      <td>1</td>\n",
       "      <td>1</td>\n",
       "      <td>Tuesday</td>\n",
       "    </tr>\n",
       "    <tr>\n",
       "      <th>4</th>\n",
       "      <td>2016-01-06 14:42:00</td>\n",
       "      <td>2016-01-06 15:49:00</td>\n",
       "      <td>Business</td>\n",
       "      <td>Fort Pierce</td>\n",
       "      <td>West Palm Beach</td>\n",
       "      <td>63.7</td>\n",
       "      <td>Customer Visit</td>\n",
       "      <td>14</td>\n",
       "      <td>42</td>\n",
       "      <td>6</td>\n",
       "      <td>1</td>\n",
       "      <td>2</td>\n",
       "      <td>Wednesday</td>\n",
       "    </tr>\n",
       "  </tbody>\n",
       "</table>\n",
       "</div>"
      ],
      "text/plain": [
       "           START_DATE            END_DATE  CATEGORY        START  \\\n",
       "0 2016-01-01 21:11:00 2016-01-01 21:17:00  Business  Fort Pierce   \n",
       "1 2016-01-02 01:25:00 2016-01-02 01:37:00  Business  Fort Pierce   \n",
       "2 2016-01-02 20:25:00 2016-01-02 20:38:00  Business  Fort Pierce   \n",
       "3 2016-01-05 17:31:00 2016-01-05 17:45:00  Business  Fort Pierce   \n",
       "4 2016-01-06 14:42:00 2016-01-06 15:49:00  Business  Fort Pierce   \n",
       "\n",
       "              STOP  MILES          PURPOSE  HOUR  MINUTES  DAY  MONTH  \\\n",
       "0      Fort Pierce    5.1   Meal/Entertain    21       11    1      1   \n",
       "1      Fort Pierce    5.0            Other     1       25    2      1   \n",
       "2      Fort Pierce    4.8  Errand/Supplies    20       25    2      1   \n",
       "3      Fort Pierce    4.7          Meeting    17       31    5      1   \n",
       "4  West Palm Beach   63.7   Customer Visit    14       42    6      1   \n",
       "\n",
       "   DAYOFWEEK    DAYNAME  \n",
       "0          4     Friday  \n",
       "1          5   Saturday  \n",
       "2          5   Saturday  \n",
       "3          1    Tuesday  \n",
       "4          2  Wednesday  "
      ]
     },
     "execution_count": 103,
     "metadata": {},
     "output_type": "execute_result"
    }
   ],
   "source": [
    "data.head()"
   ]
  },
  {
   "cell_type": "code",
   "execution_count": 104,
   "metadata": {},
   "outputs": [],
   "source": [
    "def convertMinutes(time):\n",
    "    return time.seconds/60"
   ]
  },
  {
   "cell_type": "code",
   "execution_count": 105,
   "metadata": {},
   "outputs": [
    {
     "data": {
      "text/plain": [
       "0         6.0\n",
       "1        12.0\n",
       "2        13.0\n",
       "3        14.0\n",
       "4        67.0\n",
       "        ...  \n",
       "1150      7.0\n",
       "1151     18.0\n",
       "1152     35.0\n",
       "1153     18.0\n",
       "1154    103.0\n",
       "Length: 1155, dtype: float64"
      ]
     },
     "execution_count": 105,
     "metadata": {},
     "output_type": "execute_result"
    }
   ],
   "source": [
    "(data['END_DATE'] - data['START_DATE']).apply(convertMinutes)"
   ]
  },
  {
   "cell_type": "code",
   "execution_count": 108,
   "metadata": {},
   "outputs": [],
   "source": [
    "#Duration of Ride\n",
    "data['DURATION_MIN'] = (data['END_DATE'] - data['START_DATE']).apply(convertMinutes)"
   ]
  },
  {
   "cell_type": "code",
   "execution_count": 109,
   "metadata": {},
   "outputs": [
    {
     "data": {
      "text/html": [
       "<div>\n",
       "<style scoped>\n",
       "    .dataframe tbody tr th:only-of-type {\n",
       "        vertical-align: middle;\n",
       "    }\n",
       "\n",
       "    .dataframe tbody tr th {\n",
       "        vertical-align: top;\n",
       "    }\n",
       "\n",
       "    .dataframe thead th {\n",
       "        text-align: right;\n",
       "    }\n",
       "</style>\n",
       "<table border=\"1\" class=\"dataframe\">\n",
       "  <thead>\n",
       "    <tr style=\"text-align: right;\">\n",
       "      <th></th>\n",
       "      <th>START_DATE</th>\n",
       "      <th>END_DATE</th>\n",
       "      <th>CATEGORY</th>\n",
       "      <th>START</th>\n",
       "      <th>STOP</th>\n",
       "      <th>MILES</th>\n",
       "      <th>PURPOSE</th>\n",
       "      <th>HOUR</th>\n",
       "      <th>MINUTES</th>\n",
       "      <th>DAY</th>\n",
       "      <th>MONTH</th>\n",
       "      <th>DAYOFWEEK</th>\n",
       "      <th>DAYNAME</th>\n",
       "      <th>DURATION_MIN</th>\n",
       "    </tr>\n",
       "  </thead>\n",
       "  <tbody>\n",
       "    <tr>\n",
       "      <th>0</th>\n",
       "      <td>2016-01-01 21:11:00</td>\n",
       "      <td>2016-01-01 21:17:00</td>\n",
       "      <td>Business</td>\n",
       "      <td>Fort Pierce</td>\n",
       "      <td>Fort Pierce</td>\n",
       "      <td>5.1</td>\n",
       "      <td>Meal/Entertain</td>\n",
       "      <td>21</td>\n",
       "      <td>11</td>\n",
       "      <td>1</td>\n",
       "      <td>1</td>\n",
       "      <td>4</td>\n",
       "      <td>Friday</td>\n",
       "      <td>6.0</td>\n",
       "    </tr>\n",
       "    <tr>\n",
       "      <th>1</th>\n",
       "      <td>2016-01-02 01:25:00</td>\n",
       "      <td>2016-01-02 01:37:00</td>\n",
       "      <td>Business</td>\n",
       "      <td>Fort Pierce</td>\n",
       "      <td>Fort Pierce</td>\n",
       "      <td>5.0</td>\n",
       "      <td>Other</td>\n",
       "      <td>1</td>\n",
       "      <td>25</td>\n",
       "      <td>2</td>\n",
       "      <td>1</td>\n",
       "      <td>5</td>\n",
       "      <td>Saturday</td>\n",
       "      <td>12.0</td>\n",
       "    </tr>\n",
       "    <tr>\n",
       "      <th>2</th>\n",
       "      <td>2016-01-02 20:25:00</td>\n",
       "      <td>2016-01-02 20:38:00</td>\n",
       "      <td>Business</td>\n",
       "      <td>Fort Pierce</td>\n",
       "      <td>Fort Pierce</td>\n",
       "      <td>4.8</td>\n",
       "      <td>Errand/Supplies</td>\n",
       "      <td>20</td>\n",
       "      <td>25</td>\n",
       "      <td>2</td>\n",
       "      <td>1</td>\n",
       "      <td>5</td>\n",
       "      <td>Saturday</td>\n",
       "      <td>13.0</td>\n",
       "    </tr>\n",
       "    <tr>\n",
       "      <th>3</th>\n",
       "      <td>2016-01-05 17:31:00</td>\n",
       "      <td>2016-01-05 17:45:00</td>\n",
       "      <td>Business</td>\n",
       "      <td>Fort Pierce</td>\n",
       "      <td>Fort Pierce</td>\n",
       "      <td>4.7</td>\n",
       "      <td>Meeting</td>\n",
       "      <td>17</td>\n",
       "      <td>31</td>\n",
       "      <td>5</td>\n",
       "      <td>1</td>\n",
       "      <td>1</td>\n",
       "      <td>Tuesday</td>\n",
       "      <td>14.0</td>\n",
       "    </tr>\n",
       "    <tr>\n",
       "      <th>4</th>\n",
       "      <td>2016-01-06 14:42:00</td>\n",
       "      <td>2016-01-06 15:49:00</td>\n",
       "      <td>Business</td>\n",
       "      <td>Fort Pierce</td>\n",
       "      <td>West Palm Beach</td>\n",
       "      <td>63.7</td>\n",
       "      <td>Customer Visit</td>\n",
       "      <td>14</td>\n",
       "      <td>42</td>\n",
       "      <td>6</td>\n",
       "      <td>1</td>\n",
       "      <td>2</td>\n",
       "      <td>Wednesday</td>\n",
       "      <td>67.0</td>\n",
       "    </tr>\n",
       "  </tbody>\n",
       "</table>\n",
       "</div>"
      ],
      "text/plain": [
       "           START_DATE            END_DATE  CATEGORY        START  \\\n",
       "0 2016-01-01 21:11:00 2016-01-01 21:17:00  Business  Fort Pierce   \n",
       "1 2016-01-02 01:25:00 2016-01-02 01:37:00  Business  Fort Pierce   \n",
       "2 2016-01-02 20:25:00 2016-01-02 20:38:00  Business  Fort Pierce   \n",
       "3 2016-01-05 17:31:00 2016-01-05 17:45:00  Business  Fort Pierce   \n",
       "4 2016-01-06 14:42:00 2016-01-06 15:49:00  Business  Fort Pierce   \n",
       "\n",
       "              STOP  MILES          PURPOSE  HOUR  MINUTES  DAY  MONTH  \\\n",
       "0      Fort Pierce    5.1   Meal/Entertain    21       11    1      1   \n",
       "1      Fort Pierce    5.0            Other     1       25    2      1   \n",
       "2      Fort Pierce    4.8  Errand/Supplies    20       25    2      1   \n",
       "3      Fort Pierce    4.7          Meeting    17       31    5      1   \n",
       "4  West Palm Beach   63.7   Customer Visit    14       42    6      1   \n",
       "\n",
       "   DAYOFWEEK    DAYNAME  DURATION_MIN  \n",
       "0          4     Friday           6.0  \n",
       "1          5   Saturday          12.0  \n",
       "2          5   Saturday          13.0  \n",
       "3          1    Tuesday          14.0  \n",
       "4          2  Wednesday          67.0  "
      ]
     },
     "execution_count": 109,
     "metadata": {},
     "output_type": "execute_result"
    }
   ],
   "source": [
    "data.head()"
   ]
  },
  {
   "cell_type": "code",
   "execution_count": 110,
   "metadata": {},
   "outputs": [
    {
     "data": {
      "text/plain": [
       "DURATION_MIN\n",
       "6.0      51\n",
       "15.0     50\n",
       "10.0     50\n",
       "11.0     48\n",
       "7.0      46\n",
       "         ..\n",
       "206.0     1\n",
       "71.0      1\n",
       "72.0      1\n",
       "143.0     1\n",
       "70.0      1\n",
       "Name: count, Length: 99, dtype: int64"
      ]
     },
     "execution_count": 110,
     "metadata": {},
     "output_type": "execute_result"
    }
   ],
   "source": [
    "data['DURATION_MIN'].value_counts()"
   ]
  },
  {
   "cell_type": "code",
   "execution_count": 118,
   "metadata": {},
   "outputs": [
    {
     "data": {
      "text/plain": [
       "<Axes: xlabel='DURATION_MIN', ylabel='Density'>"
      ]
     },
     "execution_count": 118,
     "metadata": {},
     "output_type": "execute_result"
    },
    {
     "data": {
      "image/png": "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",
      "text/plain": [
       "<Figure size 1500x500 with 1 Axes>"
      ]
     },
     "metadata": {},
     "output_type": "display_data"
    }
   ],
   "source": [
    "plt.figure(figsize=(15,5))\n",
    "sns.distplot(data['DURATION_MIN'], bins=150)"
   ]
  },
  {
   "cell_type": "markdown",
   "metadata": {},
   "source": [
    "Observation : Most of the trips is between 0 to 50 minutes"
   ]
  },
  {
   "cell_type": "markdown",
   "metadata": {},
   "source": [
    "### Speed"
   ]
  },
  {
   "cell_type": "code",
   "execution_count": 119,
   "metadata": {},
   "outputs": [
    {
     "data": {
      "text/html": [
       "<div>\n",
       "<style scoped>\n",
       "    .dataframe tbody tr th:only-of-type {\n",
       "        vertical-align: middle;\n",
       "    }\n",
       "\n",
       "    .dataframe tbody tr th {\n",
       "        vertical-align: top;\n",
       "    }\n",
       "\n",
       "    .dataframe thead th {\n",
       "        text-align: right;\n",
       "    }\n",
       "</style>\n",
       "<table border=\"1\" class=\"dataframe\">\n",
       "  <thead>\n",
       "    <tr style=\"text-align: right;\">\n",
       "      <th></th>\n",
       "      <th>START_DATE</th>\n",
       "      <th>END_DATE</th>\n",
       "      <th>CATEGORY</th>\n",
       "      <th>START</th>\n",
       "      <th>STOP</th>\n",
       "      <th>MILES</th>\n",
       "      <th>PURPOSE</th>\n",
       "      <th>HOUR</th>\n",
       "      <th>MINUTES</th>\n",
       "      <th>DAY</th>\n",
       "      <th>MONTH</th>\n",
       "      <th>DAYOFWEEK</th>\n",
       "      <th>DAYNAME</th>\n",
       "      <th>DURATION_MIN</th>\n",
       "    </tr>\n",
       "  </thead>\n",
       "  <tbody>\n",
       "    <tr>\n",
       "      <th>0</th>\n",
       "      <td>2016-01-01 21:11:00</td>\n",
       "      <td>2016-01-01 21:17:00</td>\n",
       "      <td>Business</td>\n",
       "      <td>Fort Pierce</td>\n",
       "      <td>Fort Pierce</td>\n",
       "      <td>5.1</td>\n",
       "      <td>Meal/Entertain</td>\n",
       "      <td>21</td>\n",
       "      <td>11</td>\n",
       "      <td>1</td>\n",
       "      <td>1</td>\n",
       "      <td>4</td>\n",
       "      <td>Friday</td>\n",
       "      <td>6.0</td>\n",
       "    </tr>\n",
       "    <tr>\n",
       "      <th>1</th>\n",
       "      <td>2016-01-02 01:25:00</td>\n",
       "      <td>2016-01-02 01:37:00</td>\n",
       "      <td>Business</td>\n",
       "      <td>Fort Pierce</td>\n",
       "      <td>Fort Pierce</td>\n",
       "      <td>5.0</td>\n",
       "      <td>Other</td>\n",
       "      <td>1</td>\n",
       "      <td>25</td>\n",
       "      <td>2</td>\n",
       "      <td>1</td>\n",
       "      <td>5</td>\n",
       "      <td>Saturday</td>\n",
       "      <td>12.0</td>\n",
       "    </tr>\n",
       "    <tr>\n",
       "      <th>2</th>\n",
       "      <td>2016-01-02 20:25:00</td>\n",
       "      <td>2016-01-02 20:38:00</td>\n",
       "      <td>Business</td>\n",
       "      <td>Fort Pierce</td>\n",
       "      <td>Fort Pierce</td>\n",
       "      <td>4.8</td>\n",
       "      <td>Errand/Supplies</td>\n",
       "      <td>20</td>\n",
       "      <td>25</td>\n",
       "      <td>2</td>\n",
       "      <td>1</td>\n",
       "      <td>5</td>\n",
       "      <td>Saturday</td>\n",
       "      <td>13.0</td>\n",
       "    </tr>\n",
       "    <tr>\n",
       "      <th>3</th>\n",
       "      <td>2016-01-05 17:31:00</td>\n",
       "      <td>2016-01-05 17:45:00</td>\n",
       "      <td>Business</td>\n",
       "      <td>Fort Pierce</td>\n",
       "      <td>Fort Pierce</td>\n",
       "      <td>4.7</td>\n",
       "      <td>Meeting</td>\n",
       "      <td>17</td>\n",
       "      <td>31</td>\n",
       "      <td>5</td>\n",
       "      <td>1</td>\n",
       "      <td>1</td>\n",
       "      <td>Tuesday</td>\n",
       "      <td>14.0</td>\n",
       "    </tr>\n",
       "    <tr>\n",
       "      <th>4</th>\n",
       "      <td>2016-01-06 14:42:00</td>\n",
       "      <td>2016-01-06 15:49:00</td>\n",
       "      <td>Business</td>\n",
       "      <td>Fort Pierce</td>\n",
       "      <td>West Palm Beach</td>\n",
       "      <td>63.7</td>\n",
       "      <td>Customer Visit</td>\n",
       "      <td>14</td>\n",
       "      <td>42</td>\n",
       "      <td>6</td>\n",
       "      <td>1</td>\n",
       "      <td>2</td>\n",
       "      <td>Wednesday</td>\n",
       "      <td>67.0</td>\n",
       "    </tr>\n",
       "  </tbody>\n",
       "</table>\n",
       "</div>"
      ],
      "text/plain": [
       "           START_DATE            END_DATE  CATEGORY        START  \\\n",
       "0 2016-01-01 21:11:00 2016-01-01 21:17:00  Business  Fort Pierce   \n",
       "1 2016-01-02 01:25:00 2016-01-02 01:37:00  Business  Fort Pierce   \n",
       "2 2016-01-02 20:25:00 2016-01-02 20:38:00  Business  Fort Pierce   \n",
       "3 2016-01-05 17:31:00 2016-01-05 17:45:00  Business  Fort Pierce   \n",
       "4 2016-01-06 14:42:00 2016-01-06 15:49:00  Business  Fort Pierce   \n",
       "\n",
       "              STOP  MILES          PURPOSE  HOUR  MINUTES  DAY  MONTH  \\\n",
       "0      Fort Pierce    5.1   Meal/Entertain    21       11    1      1   \n",
       "1      Fort Pierce    5.0            Other     1       25    2      1   \n",
       "2      Fort Pierce    4.8  Errand/Supplies    20       25    2      1   \n",
       "3      Fort Pierce    4.7          Meeting    17       31    5      1   \n",
       "4  West Palm Beach   63.7   Customer Visit    14       42    6      1   \n",
       "\n",
       "   DAYOFWEEK    DAYNAME  DURATION_MIN  \n",
       "0          4     Friday           6.0  \n",
       "1          5   Saturday          12.0  \n",
       "2          5   Saturday          13.0  \n",
       "3          1    Tuesday          14.0  \n",
       "4          2  Wednesday          67.0  "
      ]
     },
     "execution_count": 119,
     "metadata": {},
     "output_type": "execute_result"
    }
   ],
   "source": [
    "data.head()"
   ]
  },
  {
   "cell_type": "code",
   "execution_count": 120,
   "metadata": {},
   "outputs": [],
   "source": [
    "data['SPEED_KMPH'] = (data['MILES']*1.609) / (data['DURATION_MIN']/60)"
   ]
  },
  {
   "cell_type": "code",
   "execution_count": 121,
   "metadata": {},
   "outputs": [
    {
     "data": {
      "text/html": [
       "<div>\n",
       "<style scoped>\n",
       "    .dataframe tbody tr th:only-of-type {\n",
       "        vertical-align: middle;\n",
       "    }\n",
       "\n",
       "    .dataframe tbody tr th {\n",
       "        vertical-align: top;\n",
       "    }\n",
       "\n",
       "    .dataframe thead th {\n",
       "        text-align: right;\n",
       "    }\n",
       "</style>\n",
       "<table border=\"1\" class=\"dataframe\">\n",
       "  <thead>\n",
       "    <tr style=\"text-align: right;\">\n",
       "      <th></th>\n",
       "      <th>START_DATE</th>\n",
       "      <th>END_DATE</th>\n",
       "      <th>CATEGORY</th>\n",
       "      <th>START</th>\n",
       "      <th>STOP</th>\n",
       "      <th>MILES</th>\n",
       "      <th>PURPOSE</th>\n",
       "      <th>HOUR</th>\n",
       "      <th>MINUTES</th>\n",
       "      <th>DAY</th>\n",
       "      <th>MONTH</th>\n",
       "      <th>DAYOFWEEK</th>\n",
       "      <th>DAYNAME</th>\n",
       "      <th>DURATION_MIN</th>\n",
       "      <th>SPEED_KMPH</th>\n",
       "    </tr>\n",
       "  </thead>\n",
       "  <tbody>\n",
       "    <tr>\n",
       "      <th>0</th>\n",
       "      <td>2016-01-01 21:11:00</td>\n",
       "      <td>2016-01-01 21:17:00</td>\n",
       "      <td>Business</td>\n",
       "      <td>Fort Pierce</td>\n",
       "      <td>Fort Pierce</td>\n",
       "      <td>5.1</td>\n",
       "      <td>Meal/Entertain</td>\n",
       "      <td>21</td>\n",
       "      <td>11</td>\n",
       "      <td>1</td>\n",
       "      <td>1</td>\n",
       "      <td>4</td>\n",
       "      <td>Friday</td>\n",
       "      <td>6.0</td>\n",
       "      <td>82.059000</td>\n",
       "    </tr>\n",
       "    <tr>\n",
       "      <th>1</th>\n",
       "      <td>2016-01-02 01:25:00</td>\n",
       "      <td>2016-01-02 01:37:00</td>\n",
       "      <td>Business</td>\n",
       "      <td>Fort Pierce</td>\n",
       "      <td>Fort Pierce</td>\n",
       "      <td>5.0</td>\n",
       "      <td>Other</td>\n",
       "      <td>1</td>\n",
       "      <td>25</td>\n",
       "      <td>2</td>\n",
       "      <td>1</td>\n",
       "      <td>5</td>\n",
       "      <td>Saturday</td>\n",
       "      <td>12.0</td>\n",
       "      <td>40.225000</td>\n",
       "    </tr>\n",
       "    <tr>\n",
       "      <th>2</th>\n",
       "      <td>2016-01-02 20:25:00</td>\n",
       "      <td>2016-01-02 20:38:00</td>\n",
       "      <td>Business</td>\n",
       "      <td>Fort Pierce</td>\n",
       "      <td>Fort Pierce</td>\n",
       "      <td>4.8</td>\n",
       "      <td>Errand/Supplies</td>\n",
       "      <td>20</td>\n",
       "      <td>25</td>\n",
       "      <td>2</td>\n",
       "      <td>1</td>\n",
       "      <td>5</td>\n",
       "      <td>Saturday</td>\n",
       "      <td>13.0</td>\n",
       "      <td>35.645538</td>\n",
       "    </tr>\n",
       "    <tr>\n",
       "      <th>3</th>\n",
       "      <td>2016-01-05 17:31:00</td>\n",
       "      <td>2016-01-05 17:45:00</td>\n",
       "      <td>Business</td>\n",
       "      <td>Fort Pierce</td>\n",
       "      <td>Fort Pierce</td>\n",
       "      <td>4.7</td>\n",
       "      <td>Meeting</td>\n",
       "      <td>17</td>\n",
       "      <td>31</td>\n",
       "      <td>5</td>\n",
       "      <td>1</td>\n",
       "      <td>1</td>\n",
       "      <td>Tuesday</td>\n",
       "      <td>14.0</td>\n",
       "      <td>32.409857</td>\n",
       "    </tr>\n",
       "    <tr>\n",
       "      <th>4</th>\n",
       "      <td>2016-01-06 14:42:00</td>\n",
       "      <td>2016-01-06 15:49:00</td>\n",
       "      <td>Business</td>\n",
       "      <td>Fort Pierce</td>\n",
       "      <td>West Palm Beach</td>\n",
       "      <td>63.7</td>\n",
       "      <td>Customer Visit</td>\n",
       "      <td>14</td>\n",
       "      <td>42</td>\n",
       "      <td>6</td>\n",
       "      <td>1</td>\n",
       "      <td>2</td>\n",
       "      <td>Wednesday</td>\n",
       "      <td>67.0</td>\n",
       "      <td>91.785045</td>\n",
       "    </tr>\n",
       "  </tbody>\n",
       "</table>\n",
       "</div>"
      ],
      "text/plain": [
       "           START_DATE            END_DATE  CATEGORY        START  \\\n",
       "0 2016-01-01 21:11:00 2016-01-01 21:17:00  Business  Fort Pierce   \n",
       "1 2016-01-02 01:25:00 2016-01-02 01:37:00  Business  Fort Pierce   \n",
       "2 2016-01-02 20:25:00 2016-01-02 20:38:00  Business  Fort Pierce   \n",
       "3 2016-01-05 17:31:00 2016-01-05 17:45:00  Business  Fort Pierce   \n",
       "4 2016-01-06 14:42:00 2016-01-06 15:49:00  Business  Fort Pierce   \n",
       "\n",
       "              STOP  MILES          PURPOSE  HOUR  MINUTES  DAY  MONTH  \\\n",
       "0      Fort Pierce    5.1   Meal/Entertain    21       11    1      1   \n",
       "1      Fort Pierce    5.0            Other     1       25    2      1   \n",
       "2      Fort Pierce    4.8  Errand/Supplies    20       25    2      1   \n",
       "3      Fort Pierce    4.7          Meeting    17       31    5      1   \n",
       "4  West Palm Beach   63.7   Customer Visit    14       42    6      1   \n",
       "\n",
       "   DAYOFWEEK    DAYNAME  DURATION_MIN  SPEED_KMPH  \n",
       "0          4     Friday           6.0   82.059000  \n",
       "1          5   Saturday          12.0   40.225000  \n",
       "2          5   Saturday          13.0   35.645538  \n",
       "3          1    Tuesday          14.0   32.409857  \n",
       "4          2  Wednesday          67.0   91.785045  "
      ]
     },
     "execution_count": 121,
     "metadata": {},
     "output_type": "execute_result"
    }
   ],
   "source": [
    "data.head()"
   ]
  },
  {
   "cell_type": "code",
   "execution_count": 129,
   "metadata": {},
   "outputs": [
    {
     "data": {
      "text/plain": [
       "0       82.059000\n",
       "1       40.225000\n",
       "2       35.645538\n",
       "3       32.409857\n",
       "4       91.785045\n",
       "          ...    \n",
       "1150     9.654000\n",
       "1151    20.917000\n",
       "1152    44.684229\n",
       "1153    34.325333\n",
       "1154    45.176971\n",
       "Name: SPEED_KMPH, Length: 1155, dtype: float64"
      ]
     },
     "execution_count": 129,
     "metadata": {},
     "output_type": "execute_result"
    }
   ],
   "source": [
    "data['SPEED_KMPH']"
   ]
  },
  {
   "cell_type": "code",
   "execution_count": 130,
   "metadata": {},
   "outputs": [
    {
     "data": {
      "text/plain": [
       "inf"
      ]
     },
     "execution_count": 130,
     "metadata": {},
     "output_type": "execute_result"
    }
   ],
   "source": [
    "data['SPEED_KMPH'].mean()\n",
    "#infinite is there because of duration -> 0"
   ]
  },
  {
   "cell_type": "code",
   "execution_count": 123,
   "metadata": {},
   "outputs": [
    {
     "data": {
      "text/html": [
       "<div>\n",
       "<style scoped>\n",
       "    .dataframe tbody tr th:only-of-type {\n",
       "        vertical-align: middle;\n",
       "    }\n",
       "\n",
       "    .dataframe tbody tr th {\n",
       "        vertical-align: top;\n",
       "    }\n",
       "\n",
       "    .dataframe thead th {\n",
       "        text-align: right;\n",
       "    }\n",
       "</style>\n",
       "<table border=\"1\" class=\"dataframe\">\n",
       "  <thead>\n",
       "    <tr style=\"text-align: right;\">\n",
       "      <th></th>\n",
       "      <th>START_DATE</th>\n",
       "      <th>END_DATE</th>\n",
       "      <th>CATEGORY</th>\n",
       "      <th>START</th>\n",
       "      <th>STOP</th>\n",
       "      <th>MILES</th>\n",
       "      <th>PURPOSE</th>\n",
       "      <th>HOUR</th>\n",
       "      <th>MINUTES</th>\n",
       "      <th>DAY</th>\n",
       "      <th>MONTH</th>\n",
       "      <th>DAYOFWEEK</th>\n",
       "      <th>DAYNAME</th>\n",
       "      <th>DURATION_MIN</th>\n",
       "      <th>SPEED_KMPH</th>\n",
       "    </tr>\n",
       "  </thead>\n",
       "  <tbody>\n",
       "    <tr>\n",
       "      <th>751</th>\n",
       "      <td>2016-09-06 17:49:00</td>\n",
       "      <td>2016-09-06 17:49:00</td>\n",
       "      <td>Business</td>\n",
       "      <td>Unknown Location</td>\n",
       "      <td>Unknown Location</td>\n",
       "      <td>69.1</td>\n",
       "      <td>Other</td>\n",
       "      <td>17</td>\n",
       "      <td>49</td>\n",
       "      <td>6</td>\n",
       "      <td>9</td>\n",
       "      <td>1</td>\n",
       "      <td>Tuesday</td>\n",
       "      <td>0.0</td>\n",
       "      <td>inf</td>\n",
       "    </tr>\n",
       "    <tr>\n",
       "      <th>761</th>\n",
       "      <td>2016-09-16 07:08:00</td>\n",
       "      <td>2016-09-16 07:08:00</td>\n",
       "      <td>Business</td>\n",
       "      <td>Unknown Location</td>\n",
       "      <td>Unknown Location</td>\n",
       "      <td>1.6</td>\n",
       "      <td>Other</td>\n",
       "      <td>7</td>\n",
       "      <td>8</td>\n",
       "      <td>16</td>\n",
       "      <td>9</td>\n",
       "      <td>4</td>\n",
       "      <td>Friday</td>\n",
       "      <td>0.0</td>\n",
       "      <td>inf</td>\n",
       "    </tr>\n",
       "    <tr>\n",
       "      <th>798</th>\n",
       "      <td>2016-10-08 15:03:00</td>\n",
       "      <td>2016-10-08 15:03:00</td>\n",
       "      <td>Business</td>\n",
       "      <td>Karachi</td>\n",
       "      <td>Karachi</td>\n",
       "      <td>3.6</td>\n",
       "      <td>Other</td>\n",
       "      <td>15</td>\n",
       "      <td>3</td>\n",
       "      <td>8</td>\n",
       "      <td>10</td>\n",
       "      <td>5</td>\n",
       "      <td>Saturday</td>\n",
       "      <td>0.0</td>\n",
       "      <td>inf</td>\n",
       "    </tr>\n",
       "    <tr>\n",
       "      <th>807</th>\n",
       "      <td>2016-10-13 13:02:00</td>\n",
       "      <td>2016-10-13 13:02:00</td>\n",
       "      <td>Business</td>\n",
       "      <td>Islamabad</td>\n",
       "      <td>Islamabad</td>\n",
       "      <td>0.7</td>\n",
       "      <td>Other</td>\n",
       "      <td>13</td>\n",
       "      <td>2</td>\n",
       "      <td>13</td>\n",
       "      <td>10</td>\n",
       "      <td>3</td>\n",
       "      <td>Thursday</td>\n",
       "      <td>0.0</td>\n",
       "      <td>inf</td>\n",
       "    </tr>\n",
       "  </tbody>\n",
       "</table>\n",
       "</div>"
      ],
      "text/plain": [
       "             START_DATE            END_DATE  CATEGORY             START  \\\n",
       "751 2016-09-06 17:49:00 2016-09-06 17:49:00  Business  Unknown Location   \n",
       "761 2016-09-16 07:08:00 2016-09-16 07:08:00  Business  Unknown Location   \n",
       "798 2016-10-08 15:03:00 2016-10-08 15:03:00  Business           Karachi   \n",
       "807 2016-10-13 13:02:00 2016-10-13 13:02:00  Business         Islamabad   \n",
       "\n",
       "                 STOP  MILES PURPOSE  HOUR  MINUTES  DAY  MONTH  DAYOFWEEK  \\\n",
       "751  Unknown Location   69.1   Other    17       49    6      9          1   \n",
       "761  Unknown Location    1.6   Other     7        8   16      9          4   \n",
       "798           Karachi    3.6   Other    15        3    8     10          5   \n",
       "807         Islamabad    0.7   Other    13        2   13     10          3   \n",
       "\n",
       "      DAYNAME  DURATION_MIN  SPEED_KMPH  \n",
       "751   Tuesday           0.0         inf  \n",
       "761    Friday           0.0         inf  \n",
       "798  Saturday           0.0         inf  \n",
       "807  Thursday           0.0         inf  "
      ]
     },
     "execution_count": 123,
     "metadata": {},
     "output_type": "execute_result"
    }
   ],
   "source": [
    "data[ data['SPEED_KMPH']>10000 ]"
   ]
  },
  {
   "cell_type": "code",
   "execution_count": 124,
   "metadata": {},
   "outputs": [
    {
     "data": {
      "text/plain": [
       "43.13358639335718"
      ]
     },
     "execution_count": 124,
     "metadata": {},
     "output_type": "execute_result"
    }
   ],
   "source": [
    "data[ data['SPEED_KMPH']<10000 ]['SPEED_KMPH'].mean()"
   ]
  },
  {
   "cell_type": "code",
   "execution_count": 128,
   "metadata": {},
   "outputs": [
    {
     "data": {
      "text/html": [
       "<div>\n",
       "<style scoped>\n",
       "    .dataframe tbody tr th:only-of-type {\n",
       "        vertical-align: middle;\n",
       "    }\n",
       "\n",
       "    .dataframe tbody tr th {\n",
       "        vertical-align: top;\n",
       "    }\n",
       "\n",
       "    .dataframe thead th {\n",
       "        text-align: right;\n",
       "    }\n",
       "</style>\n",
       "<table border=\"1\" class=\"dataframe\">\n",
       "  <thead>\n",
       "    <tr style=\"text-align: right;\">\n",
       "      <th></th>\n",
       "      <th>START_DATE</th>\n",
       "      <th>END_DATE</th>\n",
       "      <th>CATEGORY</th>\n",
       "      <th>START</th>\n",
       "      <th>STOP</th>\n",
       "      <th>MILES</th>\n",
       "      <th>PURPOSE</th>\n",
       "      <th>HOUR</th>\n",
       "      <th>MINUTES</th>\n",
       "      <th>DAY</th>\n",
       "      <th>MONTH</th>\n",
       "      <th>DAYOFWEEK</th>\n",
       "      <th>DAYNAME</th>\n",
       "      <th>DURATION_MIN</th>\n",
       "      <th>SPEED_KMPH</th>\n",
       "    </tr>\n",
       "  </thead>\n",
       "  <tbody>\n",
       "    <tr>\n",
       "      <th>0</th>\n",
       "      <td>2016-01-01 21:11:00</td>\n",
       "      <td>2016-01-01 21:17:00</td>\n",
       "      <td>Business</td>\n",
       "      <td>Fort Pierce</td>\n",
       "      <td>Fort Pierce</td>\n",
       "      <td>5.1</td>\n",
       "      <td>Meal/Entertain</td>\n",
       "      <td>21</td>\n",
       "      <td>11</td>\n",
       "      <td>1</td>\n",
       "      <td>1</td>\n",
       "      <td>4</td>\n",
       "      <td>Friday</td>\n",
       "      <td>6.0</td>\n",
       "      <td>82.059000</td>\n",
       "    </tr>\n",
       "    <tr>\n",
       "      <th>1</th>\n",
       "      <td>2016-01-02 01:25:00</td>\n",
       "      <td>2016-01-02 01:37:00</td>\n",
       "      <td>Business</td>\n",
       "      <td>Fort Pierce</td>\n",
       "      <td>Fort Pierce</td>\n",
       "      <td>5.0</td>\n",
       "      <td>Other</td>\n",
       "      <td>1</td>\n",
       "      <td>25</td>\n",
       "      <td>2</td>\n",
       "      <td>1</td>\n",
       "      <td>5</td>\n",
       "      <td>Saturday</td>\n",
       "      <td>12.0</td>\n",
       "      <td>40.225000</td>\n",
       "    </tr>\n",
       "    <tr>\n",
       "      <th>2</th>\n",
       "      <td>2016-01-02 20:25:00</td>\n",
       "      <td>2016-01-02 20:38:00</td>\n",
       "      <td>Business</td>\n",
       "      <td>Fort Pierce</td>\n",
       "      <td>Fort Pierce</td>\n",
       "      <td>4.8</td>\n",
       "      <td>Errand/Supplies</td>\n",
       "      <td>20</td>\n",
       "      <td>25</td>\n",
       "      <td>2</td>\n",
       "      <td>1</td>\n",
       "      <td>5</td>\n",
       "      <td>Saturday</td>\n",
       "      <td>13.0</td>\n",
       "      <td>35.645538</td>\n",
       "    </tr>\n",
       "    <tr>\n",
       "      <th>3</th>\n",
       "      <td>2016-01-05 17:31:00</td>\n",
       "      <td>2016-01-05 17:45:00</td>\n",
       "      <td>Business</td>\n",
       "      <td>Fort Pierce</td>\n",
       "      <td>Fort Pierce</td>\n",
       "      <td>4.7</td>\n",
       "      <td>Meeting</td>\n",
       "      <td>17</td>\n",
       "      <td>31</td>\n",
       "      <td>5</td>\n",
       "      <td>1</td>\n",
       "      <td>1</td>\n",
       "      <td>Tuesday</td>\n",
       "      <td>14.0</td>\n",
       "      <td>32.409857</td>\n",
       "    </tr>\n",
       "    <tr>\n",
       "      <th>4</th>\n",
       "      <td>2016-01-06 14:42:00</td>\n",
       "      <td>2016-01-06 15:49:00</td>\n",
       "      <td>Business</td>\n",
       "      <td>Fort Pierce</td>\n",
       "      <td>West Palm Beach</td>\n",
       "      <td>63.7</td>\n",
       "      <td>Customer Visit</td>\n",
       "      <td>14</td>\n",
       "      <td>42</td>\n",
       "      <td>6</td>\n",
       "      <td>1</td>\n",
       "      <td>2</td>\n",
       "      <td>Wednesday</td>\n",
       "      <td>67.0</td>\n",
       "      <td>91.785045</td>\n",
       "    </tr>\n",
       "  </tbody>\n",
       "</table>\n",
       "</div>"
      ],
      "text/plain": [
       "           START_DATE            END_DATE  CATEGORY        START  \\\n",
       "0 2016-01-01 21:11:00 2016-01-01 21:17:00  Business  Fort Pierce   \n",
       "1 2016-01-02 01:25:00 2016-01-02 01:37:00  Business  Fort Pierce   \n",
       "2 2016-01-02 20:25:00 2016-01-02 20:38:00  Business  Fort Pierce   \n",
       "3 2016-01-05 17:31:00 2016-01-05 17:45:00  Business  Fort Pierce   \n",
       "4 2016-01-06 14:42:00 2016-01-06 15:49:00  Business  Fort Pierce   \n",
       "\n",
       "              STOP  MILES          PURPOSE  HOUR  MINUTES  DAY  MONTH  \\\n",
       "0      Fort Pierce    5.1   Meal/Entertain    21       11    1      1   \n",
       "1      Fort Pierce    5.0            Other     1       25    2      1   \n",
       "2      Fort Pierce    4.8  Errand/Supplies    20       25    2      1   \n",
       "3      Fort Pierce    4.7          Meeting    17       31    5      1   \n",
       "4  West Palm Beach   63.7   Customer Visit    14       42    6      1   \n",
       "\n",
       "   DAYOFWEEK    DAYNAME  DURATION_MIN  SPEED_KMPH  \n",
       "0          4     Friday           6.0   82.059000  \n",
       "1          5   Saturday          12.0   40.225000  \n",
       "2          5   Saturday          13.0   35.645538  \n",
       "3          1    Tuesday          14.0   32.409857  \n",
       "4          2  Wednesday          67.0   91.785045  "
      ]
     },
     "execution_count": 128,
     "metadata": {},
     "output_type": "execute_result"
    }
   ],
   "source": [
    "data.head()\n",
    "#Final Clean data"
   ]
  },
  {
   "cell_type": "code",
   "execution_count": null,
   "metadata": {},
   "outputs": [],
   "source": [
    "#Saving the cleaned data in our system\n",
    "data.to_csv('cleaned_data.csv', index=False)"
   ]
  }
 ],
 "metadata": {
  "kernelspec": {
   "display_name": "Python 3",
   "language": "python",
   "name": "python3"
  },
  "language_info": {
   "codemirror_mode": {
    "name": "ipython",
    "version": 3
   },
   "file_extension": ".py",
   "mimetype": "text/x-python",
   "name": "python",
   "nbconvert_exporter": "python",
   "pygments_lexer": "ipython3",
   "version": "3.10.4"
  }
 },
 "nbformat": 4,
 "nbformat_minor": 2
}
